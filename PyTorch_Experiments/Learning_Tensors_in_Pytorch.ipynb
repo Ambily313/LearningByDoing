{
  "cells": [
    {
      "cell_type": "code",
      "execution_count": 1,
      "metadata": {
        "colab": {
          "base_uri": "https://localhost:8080/"
        },
        "id": "dKQc0IDgFFtl",
        "outputId": "28c7be84-3478-499a-cdd3-d2356b831878"
      },
      "outputs": [
        {
          "name": "stdout",
          "output_type": "stream",
          "text": [
            "2.6.0+cu118\n"
          ]
        }
      ],
      "source": [
        "import torch\n",
        "print(torch.__version__)"
      ]
    },
    {
      "cell_type": "code",
      "execution_count": 2,
      "metadata": {
        "colab": {
          "base_uri": "https://localhost:8080/"
        },
        "id": "DnZGsD41Mfcc",
        "outputId": "782a2719-4f4c-4f21-a636-4a24f6b06afd"
      },
      "outputs": [
        {
          "name": "stdout",
          "output_type": "stream",
          "text": [
            "GPU Available\n",
            "using GPU :NVIDIA GeForce RTX 2050\n"
          ]
        }
      ],
      "source": [
        "if torch.cuda.is_available():\n",
        "  print(\"GPU Available\")\n",
        "  print(f\"using GPU :{torch.cuda.get_device_name(0)}\")\n",
        "else :\n",
        "  print(\"GPU not available, Using CPU\")"
      ]
    },
    {
      "cell_type": "markdown",
      "metadata": {
        "id": "12ku9FpWOlll"
      },
      "source": [
        "# Creating Tensors"
      ]
    },
    {
      "cell_type": "code",
      "execution_count": 3,
      "metadata": {
        "id": "8k3bYENkNynA"
      },
      "outputs": [],
      "source": [
        "# using empty\n",
        "a=torch.empty(2,3)"
      ]
    },
    {
      "cell_type": "code",
      "execution_count": 4,
      "metadata": {
        "colab": {
          "base_uri": "https://localhost:8080/"
        },
        "id": "utoD1XHfOQnH",
        "outputId": "d14a71a1-2631-4941-8a13-5fc715f08092"
      },
      "outputs": [
        {
          "data": {
            "text/plain": [
              "tensor([[5.0594e+07, 1.6802e-42, 0.0000e+00],\n",
              "        [0.0000e+00, 0.0000e+00, 0.0000e+00],\n",
              "        [0.0000e+00, 0.0000e+00, 0.0000e+00],\n",
              "        [0.0000e+00, 0.0000e+00, 0.0000e+00]])"
            ]
          },
          "execution_count": 4,
          "metadata": {},
          "output_type": "execute_result"
        }
      ],
      "source": [
        "torch.empty(4,3)"
      ]
    },
    {
      "cell_type": "code",
      "execution_count": 5,
      "metadata": {
        "colab": {
          "base_uri": "https://localhost:8080/"
        },
        "id": "qcEgjiM3PWdo",
        "outputId": "0d84d02f-bcd9-4dc7-c0fc-18d33b33855f"
      },
      "outputs": [
        {
          "data": {
            "text/plain": [
              "torch.Tensor"
            ]
          },
          "execution_count": 5,
          "metadata": {},
          "output_type": "execute_result"
        }
      ],
      "source": [
        "# Check type\n",
        "type(a)"
      ]
    },
    {
      "cell_type": "code",
      "execution_count": 6,
      "metadata": {
        "colab": {
          "base_uri": "https://localhost:8080/"
        },
        "id": "z_cM6Y_RPj3e",
        "outputId": "9634a0df-9881-4d25-d7d3-c4b9a467bc47"
      },
      "outputs": [
        {
          "data": {
            "text/plain": [
              "tensor([[0., 0., 0.],\n",
              "        [0., 0., 0.],\n",
              "        [0., 0., 0.],\n",
              "        [0., 0., 0.]])"
            ]
          },
          "execution_count": 6,
          "metadata": {},
          "output_type": "execute_result"
        }
      ],
      "source": [
        "# using Zeros\n",
        "\n",
        "torch.zeros(4,3)"
      ]
    },
    {
      "cell_type": "code",
      "execution_count": 7,
      "metadata": {
        "colab": {
          "base_uri": "https://localhost:8080/"
        },
        "id": "eUybzt58PsMt",
        "outputId": "e3a1f537-8237-4f52-9c02-d12ba84c178c"
      },
      "outputs": [
        {
          "data": {
            "text/plain": [
              "tensor([[0., 0.],\n",
              "        [0., 0.]])"
            ]
          },
          "execution_count": 7,
          "metadata": {},
          "output_type": "execute_result"
        }
      ],
      "source": [
        "torch.zeros(2,2)"
      ]
    },
    {
      "cell_type": "code",
      "execution_count": 8,
      "metadata": {
        "colab": {
          "base_uri": "https://localhost:8080/"
        },
        "id": "VbORSp6cPxSf",
        "outputId": "2d56231b-7abe-4756-aee2-ff04087d99b0"
      },
      "outputs": [
        {
          "data": {
            "text/plain": [
              "tensor([[1., 1., 1.],\n",
              "        [1., 1., 1.],\n",
              "        [1., 1., 1.]])"
            ]
          },
          "execution_count": 8,
          "metadata": {},
          "output_type": "execute_result"
        }
      ],
      "source": [
        "# using ones\n",
        "torch.ones(3,3)"
      ]
    },
    {
      "cell_type": "code",
      "execution_count": 9,
      "metadata": {
        "colab": {
          "base_uri": "https://localhost:8080/"
        },
        "id": "DzvzzuJ-P7fT",
        "outputId": "ad4dec6f-c02a-402e-b8cb-642b8a24f3f0"
      },
      "outputs": [
        {
          "data": {
            "text/plain": [
              "tensor([[0.5833, 0.8458, 0.7708, 0.6886],\n",
              "        [0.7789, 0.4917, 0.1462, 0.7892]])"
            ]
          },
          "execution_count": 9,
          "metadata": {},
          "output_type": "execute_result"
        }
      ],
      "source": [
        "# using rand\n",
        "\n",
        "torch.rand(2,4)"
      ]
    },
    {
      "cell_type": "code",
      "execution_count": 10,
      "metadata": {
        "colab": {
          "base_uri": "https://localhost:8080/"
        },
        "id": "GLYnJqdtVr3L",
        "outputId": "f50cfd0d-5883-4ba1-c4b5-ee54cf500f68"
      },
      "outputs": [
        {
          "data": {
            "text/plain": [
              "tensor([[0.8376, 0.3796, 0.3701, 0.7487],\n",
              "        [0.6002, 0.8644, 0.5620, 0.9053]])"
            ]
          },
          "execution_count": 10,
          "metadata": {},
          "output_type": "execute_result"
        }
      ],
      "source": [
        "# using seed\n",
        "\n",
        "torch.rand(2,4)"
      ]
    },
    {
      "cell_type": "code",
      "execution_count": 11,
      "metadata": {
        "colab": {
          "base_uri": "https://localhost:8080/"
        },
        "id": "QK0uHv5uV29L",
        "outputId": "45809bc5-a421-4fc3-ad41-f96ab1df9c54"
      },
      "outputs": [
        {
          "data": {
            "text/plain": [
              "tensor([[0.6180, 0.0687, 0.3893, 0.0404],\n",
              "        [0.4013, 0.1442, 0.4605, 0.4877]])"
            ]
          },
          "execution_count": 11,
          "metadata": {},
          "output_type": "execute_result"
        }
      ],
      "source": [
        "torch.manual_seed(50)\n",
        "\n",
        "torch.rand(2,4)"
      ]
    },
    {
      "cell_type": "code",
      "execution_count": 12,
      "metadata": {
        "colab": {
          "base_uri": "https://localhost:8080/"
        },
        "id": "d2fLl13fWS_J",
        "outputId": "51185f74-5b2e-4e09-af45-b66a73c1b474"
      },
      "outputs": [
        {
          "data": {
            "text/plain": [
              "tensor([[0.6180, 0.0687, 0.3893, 0.0404],\n",
              "        [0.4013, 0.1442, 0.4605, 0.4877]])"
            ]
          },
          "execution_count": 12,
          "metadata": {},
          "output_type": "execute_result"
        }
      ],
      "source": [
        "torch.manual_seed(50)\n",
        "\n",
        "torch.rand(2,4)"
      ]
    },
    {
      "cell_type": "code",
      "execution_count": 13,
      "metadata": {
        "colab": {
          "base_uri": "https://localhost:8080/"
        },
        "id": "FUCmcVNUWcCB",
        "outputId": "90bd2a60-0fd7-43ea-fab4-64862ea36ece"
      },
      "outputs": [
        {
          "data": {
            "text/plain": [
              "tensor([[1, 2, 3, 4],\n",
              "        [5, 6, 7, 8]])"
            ]
          },
          "execution_count": 13,
          "metadata": {},
          "output_type": "execute_result"
        }
      ],
      "source": [
        "# Using Tensor\n",
        "\n",
        "torch.tensor([[1,2,3,4],[5,6,7,8]])"
      ]
    },
    {
      "cell_type": "code",
      "execution_count": 14,
      "metadata": {
        "colab": {
          "base_uri": "https://localhost:8080/"
        },
        "id": "F_wqhkhkX0th",
        "outputId": "b73d9251-24d3-466b-c6a4-932ba67a48b9"
      },
      "outputs": [
        {
          "data": {
            "text/plain": [
              "tensor([ 1,  2,  3,  4,  5,  6,  7,  8,  9, 10])"
            ]
          },
          "execution_count": 14,
          "metadata": {},
          "output_type": "execute_result"
        }
      ],
      "source": [
        "# Using arange\n",
        "torch.arange(1,11)"
      ]
    },
    {
      "cell_type": "code",
      "execution_count": 15,
      "metadata": {
        "colab": {
          "base_uri": "https://localhost:8080/"
        },
        "id": "C6KZZtW-az_i",
        "outputId": "70da4251-9893-4601-d471-68db451a2087"
      },
      "outputs": [
        {
          "data": {
            "text/plain": [
              "tensor([[ 0, 10, 20, 30, 40],\n",
              "        [50, 60, 70, 80, 90]])"
            ]
          },
          "execution_count": 15,
          "metadata": {},
          "output_type": "execute_result"
        }
      ],
      "source": [
        "torch.arange(0,100,10).reshape(2,5)"
      ]
    },
    {
      "cell_type": "code",
      "execution_count": 16,
      "metadata": {
        "colab": {
          "base_uri": "https://localhost:8080/"
        },
        "id": "ll8SthlWbBzA",
        "outputId": "89a6b293-70b8-4a53-8f2c-51df0b42aa0e"
      },
      "outputs": [
        {
          "data": {
            "text/plain": [
              "tensor([[20, 30, 40],\n",
              "        [70, 80, 90]])"
            ]
          },
          "execution_count": 16,
          "metadata": {},
          "output_type": "execute_result"
        }
      ],
      "source": [
        "torch.arange(0,100,10).reshape(2,5)[:,2:]"
      ]
    },
    {
      "cell_type": "code",
      "execution_count": 17,
      "metadata": {
        "colab": {
          "base_uri": "https://localhost:8080/"
        },
        "id": "C4WUaoeTbxii",
        "outputId": "150e5841-e15c-4b1b-aab0-d2c18ca95a66"
      },
      "outputs": [
        {
          "data": {
            "text/plain": [
              "tensor([  0.0000,   5.2632,  10.5263,  15.7895,  21.0526,  26.3158,  31.5789,\n",
              "         36.8421,  42.1053,  47.3684,  52.6316,  57.8947,  63.1579,  68.4211,\n",
              "         73.6842,  78.9474,  84.2105,  89.4737,  94.7368, 100.0000])"
            ]
          },
          "execution_count": 17,
          "metadata": {},
          "output_type": "execute_result"
        }
      ],
      "source": [
        "# Using linspace\n",
        "\n",
        "torch.linspace(0,100,20)"
      ]
    },
    {
      "cell_type": "code",
      "execution_count": 18,
      "metadata": {
        "colab": {
          "base_uri": "https://localhost:8080/"
        },
        "id": "TsuLr_flcmYx",
        "outputId": "6917f670-39d2-4e8d-f80b-961fa4e49abf"
      },
      "outputs": [
        {
          "data": {
            "text/plain": [
              "tensor([[1., 0.],\n",
              "        [0., 1.]])"
            ]
          },
          "execution_count": 18,
          "metadata": {},
          "output_type": "execute_result"
        }
      ],
      "source": [
        "# using eye(Identity)\n",
        "\n",
        "torch.eye(2)"
      ]
    },
    {
      "cell_type": "code",
      "execution_count": 19,
      "metadata": {
        "colab": {
          "base_uri": "https://localhost:8080/"
        },
        "id": "bIWJE2_7c98G",
        "outputId": "59ff90b2-ec60-4950-a24e-9b9a8362f3ea"
      },
      "outputs": [
        {
          "data": {
            "text/plain": [
              "tensor([[5, 5, 5],\n",
              "        [5, 5, 5]])"
            ]
          },
          "execution_count": 19,
          "metadata": {},
          "output_type": "execute_result"
        }
      ],
      "source": [
        "# using full\n",
        "torch.full((2,3),5)"
      ]
    },
    {
      "cell_type": "code",
      "execution_count": 20,
      "metadata": {
        "colab": {
          "base_uri": "https://localhost:8080/"
        },
        "id": "NyWYOW8HdMtU",
        "outputId": "029a5f99-36b0-47b0-8aab-0fb1736e06a3"
      },
      "outputs": [
        {
          "data": {
            "text/plain": [
              "tensor([[13, 13, 13],\n",
              "        [13, 13, 13]])"
            ]
          },
          "execution_count": 20,
          "metadata": {},
          "output_type": "execute_result"
        }
      ],
      "source": [
        "torch.full((2,3),13)"
      ]
    },
    {
      "cell_type": "markdown",
      "metadata": {
        "id": "cxNcTJAwdiYG"
      },
      "source": [
        "# tensor shape"
      ]
    },
    {
      "cell_type": "code",
      "execution_count": 21,
      "metadata": {
        "id": "_-law8x6daKD"
      },
      "outputs": [],
      "source": [
        "x=torch.tensor([[1,3,5],[2,4,6]])"
      ]
    },
    {
      "cell_type": "code",
      "execution_count": 22,
      "metadata": {
        "colab": {
          "base_uri": "https://localhost:8080/"
        },
        "id": "0SUmF77Od7UI",
        "outputId": "ef5c11b6-b794-44b6-ebed-5ee2d7dadd21"
      },
      "outputs": [
        {
          "data": {
            "text/plain": [
              "torch.Size([2, 3])"
            ]
          },
          "execution_count": 22,
          "metadata": {},
          "output_type": "execute_result"
        }
      ],
      "source": [
        "x.shape"
      ]
    },
    {
      "cell_type": "code",
      "execution_count": 23,
      "metadata": {
        "colab": {
          "base_uri": "https://localhost:8080/"
        },
        "id": "MtATGjSpd9SA",
        "outputId": "15ad80e7-b362-436f-e231-18ad8915527b"
      },
      "outputs": [
        {
          "data": {
            "text/plain": [
              "tensor([[5150945117616,             0,             0],\n",
              "        [            0,             0,             0]])"
            ]
          },
          "execution_count": 23,
          "metadata": {},
          "output_type": "execute_result"
        }
      ],
      "source": [
        "torch.empty_like(x)"
      ]
    },
    {
      "cell_type": "code",
      "execution_count": 24,
      "metadata": {
        "colab": {
          "base_uri": "https://localhost:8080/"
        },
        "id": "6eq2zWhueNiK",
        "outputId": "09ca9c74-8b8d-47fc-a04e-76f10547485b"
      },
      "outputs": [
        {
          "data": {
            "text/plain": [
              "tensor([[0, 0, 0],\n",
              "        [0, 0, 0]])"
            ]
          },
          "execution_count": 24,
          "metadata": {},
          "output_type": "execute_result"
        }
      ],
      "source": [
        "torch.zeros_like(x)"
      ]
    },
    {
      "cell_type": "code",
      "execution_count": 25,
      "metadata": {
        "colab": {
          "base_uri": "https://localhost:8080/"
        },
        "id": "PfSanOwSeY42",
        "outputId": "7d5521c4-c9bd-4da6-9020-c77259756900"
      },
      "outputs": [
        {
          "data": {
            "text/plain": [
              "tensor([[1, 1, 1],\n",
              "        [1, 1, 1]])"
            ]
          },
          "execution_count": 25,
          "metadata": {},
          "output_type": "execute_result"
        }
      ],
      "source": [
        "torch.ones_like(x)"
      ]
    },
    {
      "cell_type": "code",
      "execution_count": 26,
      "metadata": {
        "colab": {
          "base_uri": "https://localhost:8080/"
        },
        "id": "E3btkiCnecm5",
        "outputId": "83fb30a5-8256-4d24-e0dc-a8feeeb3fddb"
      },
      "outputs": [
        {
          "data": {
            "text/plain": [
              "tensor([[0.7413, 0.9840, 0.9879],\n",
              "        [0.8389, 0.5791, 0.8991]], dtype=torch.float64)"
            ]
          },
          "execution_count": 26,
          "metadata": {},
          "output_type": "execute_result"
        }
      ],
      "source": [
        "torch.rand_like(x,dtype=torch.float64)"
      ]
    },
    {
      "cell_type": "markdown",
      "metadata": {
        "id": "7ilZb4EG-4MW"
      },
      "source": [
        "# Tensor Datatypes"
      ]
    },
    {
      "cell_type": "code",
      "execution_count": 27,
      "metadata": {
        "colab": {
          "base_uri": "https://localhost:8080/"
        },
        "id": "WytyuV-Oe2uN",
        "outputId": "7e6d4d2e-63fc-4524-c3be-2b7757b29272"
      },
      "outputs": [
        {
          "data": {
            "text/plain": [
              "torch.int64"
            ]
          },
          "execution_count": 27,
          "metadata": {},
          "output_type": "execute_result"
        }
      ],
      "source": [
        "# find data type\n",
        "x.dtype\n"
      ]
    },
    {
      "cell_type": "code",
      "execution_count": 28,
      "metadata": {
        "colab": {
          "base_uri": "https://localhost:8080/"
        },
        "id": "ikckZhIP_gLi",
        "outputId": "afeadc5d-6cc5-4d92-cdc0-13924673b1ee"
      },
      "outputs": [
        {
          "data": {
            "text/plain": [
              "tensor([1, 2, 3, 4], dtype=torch.int32)"
            ]
          },
          "execution_count": 28,
          "metadata": {},
          "output_type": "execute_result"
        }
      ],
      "source": [
        "torch.tensor([1.0,2.0,3.0,4.0],dtype=torch.int32)"
      ]
    },
    {
      "cell_type": "code",
      "execution_count": 29,
      "metadata": {
        "colab": {
          "base_uri": "https://localhost:8080/"
        },
        "id": "hAEmbcL1_r2R",
        "outputId": "ee56d19b-8f94-4f92-c438-cd12ccd11c55"
      },
      "outputs": [
        {
          "data": {
            "text/plain": [
              "tensor([1., 2., 3., 4.], dtype=torch.float64)"
            ]
          },
          "execution_count": 29,
          "metadata": {},
          "output_type": "execute_result"
        }
      ],
      "source": [
        "torch.tensor([1,2,3,4],dtype=torch.float64)"
      ]
    },
    {
      "cell_type": "code",
      "execution_count": 30,
      "metadata": {
        "colab": {
          "base_uri": "https://localhost:8080/"
        },
        "id": "ony5J2thAEk3",
        "outputId": "8a268470-63dd-4bcd-d5c4-a53a5fb5502a"
      },
      "outputs": [
        {
          "data": {
            "text/plain": [
              "tensor([[1., 3., 5.],\n",
              "        [2., 4., 6.]], dtype=torch.float64)"
            ]
          },
          "execution_count": 30,
          "metadata": {},
          "output_type": "execute_result"
        }
      ],
      "source": [
        "# using to()\n",
        "x.to(torch.float64)"
      ]
    },
    {
      "cell_type": "markdown",
      "metadata": {
        "id": "TxGFp54aAf5J"
      },
      "source": []
    },
    {
      "cell_type": "markdown",
      "metadata": {
        "id": "dLm25jhknmuQ"
      },
      "source": [
        "| **Data Type**             | **Dtype**         | **Description**                                                                                                                                                                |\n",
        "|---------------------------|-------------------|--------------------------------------------------------------------------------------------------------------------------------------------------------------------------------|\n",
        "| **32-bit Floating Point** | `torch.float32`   | Standard floating-point type used for most deep learning tasks. Provides a balance between precision and memory usage.                                                         |\n",
        "| **64-bit Floating Point** | `torch.float64`   | Double-precision floating point. Useful for high-precision numerical tasks but uses more memory.                                                                               |\n",
        "| **16-bit Floating Point** | `torch.float16`   | Half-precision floating point. Commonly used in mixed-precision training to reduce memory and computational overhead on modern GPUs.                                            |\n",
        "| **BFloat16**              | `torch.bfloat16`  | Brain floating-point format with reduced precision compared to `float16`. Used in mixed-precision training, especially on TPUs.                                                |\n",
        "| **8-bit Floating Point**  | `torch.float8`    | Ultra-low-precision floating point. Used for experimental applications and extreme memory-constrained environments (less common).                                               |\n",
        "| **8-bit Integer**         | `torch.int8`      | 8-bit signed integer. Used for quantized models to save memory and computation in inference.                                                                                   |\n",
        "| **16-bit Integer**        | `torch.int16`     | 16-bit signed integer. Useful for special numerical tasks requiring intermediate precision.                                                                                    |\n",
        "| **32-bit Integer**        | `torch.int32`     | Standard signed integer type. Commonly used for indexing and general-purpose numerical tasks.                                                                                  |\n",
        "| **64-bit Integer**        | `torch.int64`     | Long integer type. Often used for large indexing arrays or for tasks involving large numbers.                                                                                  |\n",
        "| **8-bit Unsigned Integer**| `torch.uint8`     | 8-bit unsigned integer. Commonly used for image data (e.g., pixel values between 0 and 255).                                                                                    |\n",
        "| **Boolean**               | `torch.bool`      | Boolean type, stores `True` or `False` values. Often used for masks in logical operations.                                                                                      |\n",
        "| **Complex 64**            | `torch.complex64` | Complex number type with 32-bit real and 32-bit imaginary parts. Used for scientific and signal processing tasks.                                                               |\n",
        "| **Complex 128**           | `torch.complex128`| Complex number type with 64-bit real and 64-bit imaginary parts. Offers higher precision but uses more memory.                                                                 |\n",
        "| **Quantized Integer**     | `torch.qint8`     | Quantized signed 8-bit integer. Used in quantized models for efficient inference.                                                                                              |\n",
        "| **Quantized Unsigned Integer** | `torch.quint8` | Quantized unsigned 8-bit integer. Often used for quantized tensors in image-related tasks.                                                                                     |\n"
      ]
    },
    {
      "cell_type": "markdown",
      "metadata": {
        "id": "A3aA1bIiA-NL"
      },
      "source": [
        "# Mathematical operations"
      ]
    },
    {
      "cell_type": "markdown",
      "metadata": {
        "id": "JiSZL-yiBE6E"
      },
      "source": [
        "## Scalar operations"
      ]
    },
    {
      "cell_type": "code",
      "execution_count": 31,
      "metadata": {
        "colab": {
          "base_uri": "https://localhost:8080/"
        },
        "id": "XJWCR-KYALLC",
        "outputId": "a693364f-1de5-40f1-8b2b-f81d1ee36059"
      },
      "outputs": [
        {
          "data": {
            "text/plain": [
              "tensor([[0.7145, 0.5058, 0.0518],\n",
              "        [0.2492, 0.2395, 0.4233]])"
            ]
          },
          "execution_count": 31,
          "metadata": {},
          "output_type": "execute_result"
        }
      ],
      "source": [
        "x=torch.rand(2,3)\n",
        "x"
      ]
    },
    {
      "cell_type": "code",
      "execution_count": 32,
      "metadata": {
        "colab": {
          "base_uri": "https://localhost:8080/"
        },
        "id": "a8zbjdybBNWz",
        "outputId": "9bb43116-489a-4eb9-fdbf-223ecd4c0108"
      },
      "outputs": [
        {
          "data": {
            "text/plain": [
              "tensor([[2.7145, 2.5058, 2.0518],\n",
              "        [2.2492, 2.2395, 2.4233]])"
            ]
          },
          "execution_count": 32,
          "metadata": {},
          "output_type": "execute_result"
        }
      ],
      "source": [
        "# addition\n",
        "x+2"
      ]
    },
    {
      "cell_type": "code",
      "execution_count": 33,
      "metadata": {
        "colab": {
          "base_uri": "https://localhost:8080/"
        },
        "id": "qXSREyLOBVLV",
        "outputId": "0f7b5321-174c-4a38-ebd7-63ae2aae31b5"
      },
      "outputs": [
        {
          "data": {
            "text/plain": [
              "tensor([[1.4291, 1.0117, 0.1036],\n",
              "        [0.4983, 0.4790, 0.8466]])"
            ]
          },
          "execution_count": 33,
          "metadata": {},
          "output_type": "execute_result"
        }
      ],
      "source": [
        "x+x"
      ]
    },
    {
      "cell_type": "code",
      "execution_count": 34,
      "metadata": {
        "colab": {
          "base_uri": "https://localhost:8080/"
        },
        "id": "c7WTLxRPBXiI",
        "outputId": "6bd362eb-7468-464c-8920-73e2fa1bfde4"
      },
      "outputs": [
        {
          "data": {
            "text/plain": [
              "tensor([[-1.2855, -1.4942, -1.9482],\n",
              "        [-1.7508, -1.7605, -1.5767]])"
            ]
          },
          "execution_count": 34,
          "metadata": {},
          "output_type": "execute_result"
        }
      ],
      "source": [
        "# Subtraction\n",
        "\n",
        "x-2"
      ]
    },
    {
      "cell_type": "code",
      "execution_count": 35,
      "metadata": {
        "colab": {
          "base_uri": "https://localhost:8080/"
        },
        "id": "AJwekKGBBk_2",
        "outputId": "282d26a1-a432-4641-ea66-4ede67f05c83"
      },
      "outputs": [
        {
          "data": {
            "text/plain": [
              "tensor([[7.1455, 5.0585, 0.5179],\n",
              "        [2.4915, 2.3951, 4.2329]])"
            ]
          },
          "execution_count": 35,
          "metadata": {},
          "output_type": "execute_result"
        }
      ],
      "source": [
        "# multiplication\n",
        "x* 10"
      ]
    },
    {
      "cell_type": "code",
      "execution_count": 36,
      "metadata": {
        "colab": {
          "base_uri": "https://localhost:8080/"
        },
        "id": "cclxsInTB4Qv",
        "outputId": "051555dd-3db3-4453-c92b-f859adfcde96"
      },
      "outputs": [
        {
          "data": {
            "text/plain": [
              "tensor([[0.3573, 0.2529, 0.0259],\n",
              "        [0.1246, 0.1198, 0.2116]])"
            ]
          },
          "execution_count": 36,
          "metadata": {},
          "output_type": "execute_result"
        }
      ],
      "source": [
        "# Division\n",
        "x/2"
      ]
    },
    {
      "cell_type": "code",
      "execution_count": 37,
      "metadata": {
        "colab": {
          "base_uri": "https://localhost:8080/"
        },
        "id": "AJzZ-gbHB9ui",
        "outputId": "cb6cbd52-ce2d-4290-9942-e21b33c869c9"
      },
      "outputs": [
        {
          "data": {
            "text/plain": [
              "tensor([[35., 25.,  2.],\n",
              "        [12., 11., 21.]])"
            ]
          },
          "execution_count": 37,
          "metadata": {},
          "output_type": "execute_result"
        }
      ],
      "source": [
        "# int division\n",
        "(x*100)//2"
      ]
    },
    {
      "cell_type": "code",
      "execution_count": 38,
      "metadata": {
        "colab": {
          "base_uri": "https://localhost:8080/"
        },
        "id": "P5kQZ2u7CL7O",
        "outputId": "a0cd62c0-68bb-41c0-eaad-8e877c64f5ea"
      },
      "outputs": [
        {
          "data": {
            "text/plain": [
              "tensor([[1., 1., 0.],\n",
              "        [0., 1., 1.]])"
            ]
          },
          "execution_count": 38,
          "metadata": {},
          "output_type": "execute_result"
        }
      ],
      "source": [
        "# mod\n",
        "((x*100)//2)%2"
      ]
    },
    {
      "cell_type": "code",
      "execution_count": 39,
      "metadata": {
        "colab": {
          "base_uri": "https://localhost:8080/"
        },
        "id": "0_Ilfm3-CdiL",
        "outputId": "76a92459-8359-45ca-ad25-9f74297e8bb9"
      },
      "outputs": [
        {
          "data": {
            "text/plain": [
              "tensor([[0.5106, 0.2559, 0.0027],\n",
              "        [0.0621, 0.0574, 0.1792]])"
            ]
          },
          "execution_count": 39,
          "metadata": {},
          "output_type": "execute_result"
        }
      ],
      "source": [
        "# power\n",
        "x**2"
      ]
    },
    {
      "cell_type": "markdown",
      "metadata": {
        "id": "beRD6m5RC7B5"
      },
      "source": [
        "# Element wise operation"
      ]
    },
    {
      "cell_type": "code",
      "execution_count": 40,
      "metadata": {
        "id": "NYC69lfCCwCm"
      },
      "outputs": [],
      "source": [
        "a=torch.rand(2,3)\n",
        "b=torch.rand(2,3)"
      ]
    },
    {
      "cell_type": "code",
      "execution_count": 41,
      "metadata": {
        "colab": {
          "base_uri": "https://localhost:8080/"
        },
        "id": "L6P21VzfEm5v",
        "outputId": "168d2b22-57fa-4670-89db-8a3cb6068148"
      },
      "outputs": [
        {
          "data": {
            "text/plain": [
              "tensor([[0.0022, 0.6848, 0.7497],\n",
              "        [0.2489, 0.3490, 0.1953]])"
            ]
          },
          "execution_count": 41,
          "metadata": {},
          "output_type": "execute_result"
        }
      ],
      "source": [
        "a"
      ]
    },
    {
      "cell_type": "code",
      "execution_count": 42,
      "metadata": {
        "colab": {
          "base_uri": "https://localhost:8080/"
        },
        "id": "yPCYDtdwEv2i",
        "outputId": "a962b2cb-9f0e-4bbb-ed49-4ef988aaa399"
      },
      "outputs": [
        {
          "data": {
            "text/plain": [
              "tensor([[0.2792, 0.2526, 0.3792],\n",
              "        [0.7686, 0.6907, 0.7526]])"
            ]
          },
          "execution_count": 42,
          "metadata": {},
          "output_type": "execute_result"
        }
      ],
      "source": [
        "b"
      ]
    },
    {
      "cell_type": "code",
      "execution_count": 43,
      "metadata": {
        "colab": {
          "base_uri": "https://localhost:8080/"
        },
        "id": "U2KZKJ6GEwmC",
        "outputId": "f1f6873b-b5c6-475c-b27d-5d4be1b9fb61"
      },
      "outputs": [
        {
          "data": {
            "text/plain": [
              "tensor([[0.2814, 0.9374, 1.1289],\n",
              "        [1.0175, 1.0397, 0.9479]])"
            ]
          },
          "execution_count": 43,
          "metadata": {},
          "output_type": "execute_result"
        }
      ],
      "source": [
        "# add\n",
        "a+b"
      ]
    },
    {
      "cell_type": "code",
      "execution_count": 44,
      "metadata": {
        "colab": {
          "base_uri": "https://localhost:8080/"
        },
        "id": "_3iJKMfJE0F0",
        "outputId": "512bf9b1-4ff1-44ed-e934-0f16e96b976f"
      },
      "outputs": [
        {
          "data": {
            "text/plain": [
              "tensor([[-0.2771,  0.4322,  0.3705],\n",
              "        [-0.5197, -0.3417, -0.5574]])"
            ]
          },
          "execution_count": 44,
          "metadata": {},
          "output_type": "execute_result"
        }
      ],
      "source": [
        "# div\n",
        "a-b"
      ]
    },
    {
      "cell_type": "code",
      "execution_count": 45,
      "metadata": {
        "colab": {
          "base_uri": "https://localhost:8080/"
        },
        "id": "1lTUnpn3E8Cp",
        "outputId": "bd9af94e-261f-464d-ea12-360f89a99382"
      },
      "outputs": [
        {
          "data": {
            "text/plain": [
              "tensor([[0.0006, 0.1730, 0.2843],\n",
              "        [0.1913, 0.2411, 0.1470]])"
            ]
          },
          "execution_count": 45,
          "metadata": {},
          "output_type": "execute_result"
        }
      ],
      "source": [
        "#mul\n",
        "a*b"
      ]
    },
    {
      "cell_type": "code",
      "execution_count": 46,
      "metadata": {
        "colab": {
          "base_uri": "https://localhost:8080/"
        },
        "id": "ieVk8suuE_5x",
        "outputId": "ef95f8d9-7782-4e46-b650-568653dcd4dc"
      },
      "outputs": [
        {
          "data": {
            "text/plain": [
              "tensor([[0.0077, 2.7112, 1.9769],\n",
              "        [0.3238, 0.5053, 0.2594]])"
            ]
          },
          "execution_count": 46,
          "metadata": {},
          "output_type": "execute_result"
        }
      ],
      "source": [
        "# div\n",
        "a/b"
      ]
    },
    {
      "cell_type": "code",
      "execution_count": 47,
      "metadata": {
        "colab": {
          "base_uri": "https://localhost:8080/"
        },
        "id": "JpEzvZl_FEsp",
        "outputId": "8edc6a30-41e6-44f4-9721-7a440e3832d4"
      },
      "outputs": [
        {
          "data": {
            "text/plain": [
              "tensor([[0.1802, 0.9088, 0.8965],\n",
              "        [0.3434, 0.4833, 0.2925]])"
            ]
          },
          "execution_count": 47,
          "metadata": {},
          "output_type": "execute_result"
        }
      ],
      "source": [
        "# Power\n",
        "a**b"
      ]
    },
    {
      "cell_type": "code",
      "execution_count": 48,
      "metadata": {
        "colab": {
          "base_uri": "https://localhost:8080/"
        },
        "id": "tk8OYN62FTFE",
        "outputId": "0893ca4c-e04e-4fdb-db6a-18683ec0cdd4"
      },
      "outputs": [
        {
          "data": {
            "text/plain": [
              "tensor([[0.0022, 0.1796, 0.3705],\n",
              "        [0.2489, 0.3490, 0.1953]])"
            ]
          },
          "execution_count": 48,
          "metadata": {},
          "output_type": "execute_result"
        }
      ],
      "source": [
        "# Mode\n",
        "a%b"
      ]
    },
    {
      "cell_type": "code",
      "execution_count": 49,
      "metadata": {
        "id": "qWS3Vnu4FpoP"
      },
      "outputs": [],
      "source": [
        "c=torch.tensor([-2,3,-3,-5,4,5])"
      ]
    },
    {
      "cell_type": "code",
      "execution_count": 50,
      "metadata": {
        "colab": {
          "base_uri": "https://localhost:8080/"
        },
        "id": "P-sYOSBoF1Jg",
        "outputId": "21e57436-d529-4241-f634-0c3150e4dbcc"
      },
      "outputs": [
        {
          "data": {
            "text/plain": [
              "tensor([2, 3, 3, 5, 4, 5])"
            ]
          },
          "execution_count": 50,
          "metadata": {},
          "output_type": "execute_result"
        }
      ],
      "source": [
        "# abs\n",
        "torch.abs(c)"
      ]
    },
    {
      "cell_type": "code",
      "execution_count": 51,
      "metadata": {
        "colab": {
          "base_uri": "https://localhost:8080/"
        },
        "id": "GWPvjMYOF9jU",
        "outputId": "6d4d9263-5044-40d6-ae4a-dc8c26dd6851"
      },
      "outputs": [
        {
          "data": {
            "text/plain": [
              "tensor([ 2, -3,  3,  5, -4, -5])"
            ]
          },
          "execution_count": 51,
          "metadata": {},
          "output_type": "execute_result"
        }
      ],
      "source": [
        "# negative\n",
        "torch.negative(c)"
      ]
    },
    {
      "cell_type": "code",
      "execution_count": 52,
      "metadata": {
        "colab": {
          "base_uri": "https://localhost:8080/"
        },
        "id": "GDiFN1KOGW0F",
        "outputId": "e41c973f-a5ef-4618-f28c-5821b66d9d7f"
      },
      "outputs": [
        {
          "data": {
            "text/plain": [
              "tensor([1.0000, 2.5000, 4.0000])"
            ]
          },
          "execution_count": 52,
          "metadata": {},
          "output_type": "execute_result"
        }
      ],
      "source": [
        "d=torch.linspace(1,4,3)\n",
        "d"
      ]
    },
    {
      "cell_type": "code",
      "execution_count": 53,
      "metadata": {
        "colab": {
          "base_uri": "https://localhost:8080/"
        },
        "id": "ZZpHerqFGxS0",
        "outputId": "4bb2cec0-06b1-4f78-b4d6-210a23f6865e"
      },
      "outputs": [
        {
          "data": {
            "text/plain": [
              "tensor([1., 2., 4.])"
            ]
          },
          "execution_count": 53,
          "metadata": {},
          "output_type": "execute_result"
        }
      ],
      "source": [
        "# round\n",
        "torch.round(d)\n"
      ]
    },
    {
      "cell_type": "code",
      "execution_count": 54,
      "metadata": {
        "colab": {
          "base_uri": "https://localhost:8080/"
        },
        "id": "NUIYdd6kG6uG",
        "outputId": "cf1eaf14-086e-41ac-eee0-398836a8eea5"
      },
      "outputs": [
        {
          "data": {
            "text/plain": [
              "tensor([1., 3., 4.])"
            ]
          },
          "execution_count": 54,
          "metadata": {},
          "output_type": "execute_result"
        }
      ],
      "source": [
        "#  ceil\n",
        "torch.ceil(d)"
      ]
    },
    {
      "cell_type": "code",
      "execution_count": 55,
      "metadata": {
        "colab": {
          "base_uri": "https://localhost:8080/"
        },
        "id": "I0_08DdbHNvd",
        "outputId": "59f50a54-c65c-4622-8e81-403ece56fb2c"
      },
      "outputs": [
        {
          "data": {
            "text/plain": [
              "tensor([1., 2., 4.])"
            ]
          },
          "execution_count": 55,
          "metadata": {},
          "output_type": "execute_result"
        }
      ],
      "source": [
        "# floor\n",
        "torch.floor(d)"
      ]
    },
    {
      "cell_type": "code",
      "execution_count": 56,
      "metadata": {
        "colab": {
          "base_uri": "https://localhost:8080/"
        },
        "id": "H2KF7hnnHYIR",
        "outputId": "9cde9a6d-e0a0-4c82-89ca-ca1c5dd32b01"
      },
      "outputs": [
        {
          "data": {
            "text/plain": [
              "tensor([2.0000, 2.5000, 3.0000])"
            ]
          },
          "execution_count": 56,
          "metadata": {},
          "output_type": "execute_result"
        }
      ],
      "source": [
        "# clamp\n",
        "torch.clamp(d,min=2,max=3)"
      ]
    },
    {
      "cell_type": "markdown",
      "metadata": {
        "id": "8z72HKiHIidA"
      },
      "source": [
        "# Reduction operation.\n"
      ]
    },
    {
      "cell_type": "code",
      "execution_count": 57,
      "metadata": {
        "id": "J-CuUo22Hi_h"
      },
      "outputs": [],
      "source": [
        "r=torch.randint(size=(2,3),low=0,high=10)"
      ]
    },
    {
      "cell_type": "code",
      "execution_count": 58,
      "metadata": {
        "colab": {
          "base_uri": "https://localhost:8080/"
        },
        "id": "Do7qQ2b0I2Qm",
        "outputId": "d1e76300-e74a-403c-aece-ac9c8cead098"
      },
      "outputs": [
        {
          "data": {
            "text/plain": [
              "tensor([[8, 3, 0],\n",
              "        [1, 5, 9]])"
            ]
          },
          "execution_count": 58,
          "metadata": {},
          "output_type": "execute_result"
        }
      ],
      "source": [
        "r"
      ]
    },
    {
      "cell_type": "code",
      "execution_count": 59,
      "metadata": {
        "colab": {
          "base_uri": "https://localhost:8080/"
        },
        "id": "Hl1JatAvI3Qq",
        "outputId": "7efd7b31-a485-426b-bf58-e0ba369c5f89"
      },
      "outputs": [
        {
          "data": {
            "text/plain": [
              "tensor(26)"
            ]
          },
          "execution_count": 59,
          "metadata": {},
          "output_type": "execute_result"
        }
      ],
      "source": [
        "# sum\n",
        "torch.sum(r)"
      ]
    },
    {
      "cell_type": "code",
      "execution_count": 60,
      "metadata": {
        "colab": {
          "base_uri": "https://localhost:8080/"
        },
        "id": "oxTisIcPI-12",
        "outputId": "3af26a98-cc51-4091-9c4e-ee566af5ebc9"
      },
      "outputs": [
        {
          "data": {
            "text/plain": [
              "tensor([9, 8, 9])"
            ]
          },
          "execution_count": 60,
          "metadata": {},
          "output_type": "execute_result"
        }
      ],
      "source": [
        "# sum along columns\n",
        "torch.sum(r,dim=0)"
      ]
    },
    {
      "cell_type": "code",
      "execution_count": 61,
      "metadata": {
        "colab": {
          "base_uri": "https://localhost:8080/"
        },
        "id": "pe2ZcnE5JCWJ",
        "outputId": "fcf9b3ea-bb6e-485a-ab8d-8dbd3b319537"
      },
      "outputs": [
        {
          "data": {
            "text/plain": [
              "tensor([11, 15])"
            ]
          },
          "execution_count": 61,
          "metadata": {},
          "output_type": "execute_result"
        }
      ],
      "source": [
        "# sum along rows\n",
        "torch.sum(r,dim=1)"
      ]
    },
    {
      "cell_type": "code",
      "execution_count": 62,
      "metadata": {
        "colab": {
          "base_uri": "https://localhost:8080/"
        },
        "id": "b0I4Kf9XJRZD",
        "outputId": "c63a4015-24f1-40fa-a087-bcddfdb8b3ea"
      },
      "outputs": [
        {
          "data": {
            "text/plain": [
              "tensor(4.3333)"
            ]
          },
          "execution_count": 62,
          "metadata": {},
          "output_type": "execute_result"
        }
      ],
      "source": [
        "# mean\n",
        "torch.mean(r.float())"
      ]
    },
    {
      "cell_type": "code",
      "execution_count": 63,
      "metadata": {
        "colab": {
          "base_uri": "https://localhost:8080/"
        },
        "id": "KD10jm_MJUpj",
        "outputId": "c7ff0ad4-a89d-4273-9902-2b09848d603f"
      },
      "outputs": [
        {
          "data": {
            "text/plain": [
              "tensor([4.5000, 4.0000, 4.5000])"
            ]
          },
          "execution_count": 63,
          "metadata": {},
          "output_type": "execute_result"
        }
      ],
      "source": [
        "# mean along column\n",
        "torch.mean(r.float(),dim=0)"
      ]
    },
    {
      "cell_type": "code",
      "execution_count": 64,
      "metadata": {
        "colab": {
          "base_uri": "https://localhost:8080/"
        },
        "id": "j6wNUYqeJucI",
        "outputId": "e4f100d9-ae0a-4eef-fb67-0b6434f33dde"
      },
      "outputs": [
        {
          "data": {
            "text/plain": [
              "tensor([3.6667, 5.0000])"
            ]
          },
          "execution_count": 64,
          "metadata": {},
          "output_type": "execute_result"
        }
      ],
      "source": [
        "# mean along rows\n",
        "torch.mean(r.float(),dim=1)"
      ]
    },
    {
      "cell_type": "code",
      "execution_count": 65,
      "metadata": {
        "colab": {
          "base_uri": "https://localhost:8080/"
        },
        "id": "OILkK57oJxHe",
        "outputId": "5bec0a7d-ad0d-491e-a915-8a2a97fa1be8"
      },
      "outputs": [
        {
          "data": {
            "text/plain": [
              "tensor(3.)"
            ]
          },
          "execution_count": 65,
          "metadata": {},
          "output_type": "execute_result"
        }
      ],
      "source": [
        "# Median\n",
        "torch.median(r.float())"
      ]
    },
    {
      "cell_type": "code",
      "execution_count": 66,
      "metadata": {
        "colab": {
          "base_uri": "https://localhost:8080/"
        },
        "id": "02aDVLXqJ7Cf",
        "outputId": "3c1c9127-2a2e-44df-e485-4908941a3c44"
      },
      "outputs": [
        {
          "data": {
            "text/plain": [
              "tensor(9)"
            ]
          },
          "execution_count": 66,
          "metadata": {},
          "output_type": "execute_result"
        }
      ],
      "source": [
        "# max\n",
        "torch.max(r)"
      ]
    },
    {
      "cell_type": "code",
      "execution_count": 67,
      "metadata": {
        "colab": {
          "base_uri": "https://localhost:8080/"
        },
        "id": "LfqSAAh0KMqp",
        "outputId": "735744af-f0cb-433a-c289-60f39a9b81d1"
      },
      "outputs": [
        {
          "data": {
            "text/plain": [
              "tensor(0)"
            ]
          },
          "execution_count": 67,
          "metadata": {},
          "output_type": "execute_result"
        }
      ],
      "source": [
        "# min\n",
        "torch.min(r)"
      ]
    },
    {
      "cell_type": "code",
      "execution_count": 68,
      "metadata": {
        "colab": {
          "base_uri": "https://localhost:8080/"
        },
        "id": "TXVomxThKQj1",
        "outputId": "856d7825-20f8-49e2-ead4-bab99dd28ad3"
      },
      "outputs": [
        {
          "data": {
            "text/plain": [
              "tensor(0)"
            ]
          },
          "execution_count": 68,
          "metadata": {},
          "output_type": "execute_result"
        }
      ],
      "source": [
        "# product\n",
        "torch.prod(r)"
      ]
    },
    {
      "cell_type": "code",
      "execution_count": 69,
      "metadata": {
        "colab": {
          "base_uri": "https://localhost:8080/"
        },
        "id": "O4nJrozDKaPX",
        "outputId": "58003815-b319-4060-9649-6194afcdbf4d"
      },
      "outputs": [
        {
          "data": {
            "text/plain": [
              "tensor(3.6697)"
            ]
          },
          "execution_count": 69,
          "metadata": {},
          "output_type": "execute_result"
        }
      ],
      "source": [
        "# std\n",
        "torch.std(r.float())"
      ]
    },
    {
      "cell_type": "code",
      "execution_count": 70,
      "metadata": {
        "colab": {
          "base_uri": "https://localhost:8080/"
        },
        "id": "Q0P8A3QEKeGE",
        "outputId": "e63c584a-abc1-42e0-a63d-4c272ce71683"
      },
      "outputs": [
        {
          "data": {
            "text/plain": [
              "tensor(13.4667)"
            ]
          },
          "execution_count": 70,
          "metadata": {},
          "output_type": "execute_result"
        }
      ],
      "source": [
        "# variance\n",
        "torch.var(r.float())"
      ]
    },
    {
      "cell_type": "code",
      "execution_count": 71,
      "metadata": {
        "id": "DSMh3MIvKnHd"
      },
      "outputs": [],
      "source": [
        "# argmax(for finding the position of largest item)"
      ]
    },
    {
      "cell_type": "code",
      "execution_count": 72,
      "metadata": {
        "colab": {
          "base_uri": "https://localhost:8080/"
        },
        "id": "mhRS3gmFKyas",
        "outputId": "0fcc1e10-7018-4f4f-ffac-a7107439bd89"
      },
      "outputs": [
        {
          "data": {
            "text/plain": [
              "tensor(5)"
            ]
          },
          "execution_count": 72,
          "metadata": {},
          "output_type": "execute_result"
        }
      ],
      "source": [
        "torch.argmax(r)"
      ]
    },
    {
      "cell_type": "code",
      "execution_count": 73,
      "metadata": {
        "colab": {
          "base_uri": "https://localhost:8080/"
        },
        "id": "t6l4oTTpK4eg",
        "outputId": "22aee36d-6e5b-44c9-ee4e-3d344942c824"
      },
      "outputs": [
        {
          "data": {
            "text/plain": [
              "tensor(2)"
            ]
          },
          "execution_count": 73,
          "metadata": {},
          "output_type": "execute_result"
        }
      ],
      "source": [
        "# argmin\n",
        "torch.argmin(r)"
      ]
    },
    {
      "cell_type": "markdown",
      "metadata": {
        "id": "XzClLCYzLnxW"
      },
      "source": [
        "# Matrix operations"
      ]
    },
    {
      "cell_type": "code",
      "execution_count": 74,
      "metadata": {
        "colab": {
          "base_uri": "https://localhost:8080/"
        },
        "id": "1A7LxWYnK-HK",
        "outputId": "90545663-228d-4d27-f9be-63d9d7ba5d5b"
      },
      "outputs": [
        {
          "name": "stdout",
          "output_type": "stream",
          "text": [
            "tensor([[8, 4, 9],\n",
            "        [4, 2, 8]])\n",
            "tensor([[7, 0],\n",
            "        [6, 2],\n",
            "        [2, 1]])\n"
          ]
        }
      ],
      "source": [
        "p=torch.randint(size=(2,3),low=0,high=10)\n",
        "q=torch.randint(size=(3,2),low=0,high=10)\n",
        "print(p)\n",
        "print(q)"
      ]
    },
    {
      "cell_type": "code",
      "execution_count": 75,
      "metadata": {
        "colab": {
          "base_uri": "https://localhost:8080/"
        },
        "id": "8eU0J-yXLuzD",
        "outputId": "11893b56-d88c-48d7-a236-f428d95c2bc0"
      },
      "outputs": [
        {
          "data": {
            "text/plain": [
              "tensor([[98, 17],\n",
              "        [56, 12]])"
            ]
          },
          "execution_count": 75,
          "metadata": {},
          "output_type": "execute_result"
        }
      ],
      "source": [
        "# matrix mul\n",
        "torch.matmul(p,q)"
      ]
    },
    {
      "cell_type": "code",
      "execution_count": 76,
      "metadata": {
        "colab": {
          "base_uri": "https://localhost:8080/"
        },
        "id": "mOyXakVBMChV",
        "outputId": "42808e55-4d0d-4732-99a3-64244d7a1131"
      },
      "outputs": [
        {
          "data": {
            "text/plain": [
              "(tensor([1, 2]), tensor([3, 4]))"
            ]
          },
          "execution_count": 76,
          "metadata": {},
          "output_type": "execute_result"
        }
      ],
      "source": [
        "vector1=torch.tensor([1,2])\n",
        "vector2=torch.tensor([3,4])\n",
        "vector1,vector2"
      ]
    },
    {
      "cell_type": "code",
      "execution_count": 77,
      "metadata": {
        "colab": {
          "base_uri": "https://localhost:8080/"
        },
        "id": "SFwgdUFxMROf",
        "outputId": "a011732b-bb71-4c42-91b3-81b06dd28669"
      },
      "outputs": [
        {
          "data": {
            "text/plain": [
              "tensor(11)"
            ]
          },
          "execution_count": 77,
          "metadata": {},
          "output_type": "execute_result"
        }
      ],
      "source": [
        "#dot product\n",
        "torch.dot(vector1,vector2)"
      ]
    },
    {
      "cell_type": "code",
      "execution_count": 78,
      "metadata": {
        "colab": {
          "base_uri": "https://localhost:8080/"
        },
        "id": "1iw64nSCMmOU",
        "outputId": "dd8a8dc5-cd05-4036-9596-5adf863ebc46"
      },
      "outputs": [
        {
          "data": {
            "text/plain": [
              "tensor([[8, 3, 1],\n",
              "        [6, 4, 1],\n",
              "        [0, 0, 9]])"
            ]
          },
          "execution_count": 78,
          "metadata": {},
          "output_type": "execute_result"
        }
      ],
      "source": [
        "# transpose\n",
        "t=torch.randint(size=(3,3),low=0,high=10)\n",
        "t"
      ]
    },
    {
      "cell_type": "code",
      "execution_count": 79,
      "metadata": {
        "colab": {
          "base_uri": "https://localhost:8080/"
        },
        "id": "mV2DFXUaULmW",
        "outputId": "7e0e5db9-9cd0-4a94-c227-f106cfd2a78c"
      },
      "outputs": [
        {
          "data": {
            "text/plain": [
              "tensor([[8, 6, 0],\n",
              "        [3, 4, 0],\n",
              "        [1, 1, 9]])"
            ]
          },
          "execution_count": 79,
          "metadata": {},
          "output_type": "execute_result"
        }
      ],
      "source": [
        "torch.transpose(t,0,1)"
      ]
    },
    {
      "cell_type": "code",
      "execution_count": 80,
      "metadata": {
        "colab": {
          "base_uri": "https://localhost:8080/"
        },
        "id": "jX2x7t5SUVdx",
        "outputId": "568be46c-de0c-4d5d-e70f-4251355dce53"
      },
      "outputs": [
        {
          "data": {
            "text/plain": [
              "tensor(126.)"
            ]
          },
          "execution_count": 80,
          "metadata": {},
          "output_type": "execute_result"
        }
      ],
      "source": [
        "# determinant\n",
        "torch.det(t.float())"
      ]
    },
    {
      "cell_type": "code",
      "execution_count": 81,
      "metadata": {
        "colab": {
          "base_uri": "https://localhost:8080/"
        },
        "id": "pMseYFvcUhYR",
        "outputId": "503ab156-5950-40bc-c9df-01deced59fae"
      },
      "outputs": [
        {
          "data": {
            "text/plain": [
              "tensor([[ 0.2857, -0.2143, -0.0079],\n",
              "        [-0.4286,  0.5714, -0.0159],\n",
              "        [ 0.0000,  0.0000,  0.1111]])"
            ]
          },
          "execution_count": 81,
          "metadata": {},
          "output_type": "execute_result"
        }
      ],
      "source": [
        "# inverse\n",
        "torch.inverse(t.float())"
      ]
    },
    {
      "cell_type": "markdown",
      "metadata": {
        "id": "S9kdIDjHVDLh"
      },
      "source": [
        "# Comparisons"
      ]
    },
    {
      "cell_type": "code",
      "execution_count": 82,
      "metadata": {
        "colab": {
          "base_uri": "https://localhost:8080/"
        },
        "id": "ol3bPPkzU4mS",
        "outputId": "6e307c46-e918-4d60-a866-0ae3b222ead4"
      },
      "outputs": [
        {
          "name": "stdout",
          "output_type": "stream",
          "text": [
            "tensor([[9, 6, 2],\n",
            "        [3, 8, 2]])\n",
            "tensor([[3, 9, 2],\n",
            "        [6, 8, 8]])\n"
          ]
        }
      ],
      "source": [
        "m=torch.randint(size=(2,3),low=0,high=10)\n",
        "n=torch.randint(size=(2,3),low=0,high=10)\n",
        "print(m)\n",
        "print(n)"
      ]
    },
    {
      "cell_type": "code",
      "execution_count": 83,
      "metadata": {
        "colab": {
          "base_uri": "https://localhost:8080/"
        },
        "id": "ix4yy0rpVN8x",
        "outputId": "495cf5d8-5d46-4c23-e129-4131e8d3d745"
      },
      "outputs": [
        {
          "data": {
            "text/plain": [
              "tensor([[ True, False, False],\n",
              "        [False, False, False]])"
            ]
          },
          "execution_count": 83,
          "metadata": {},
          "output_type": "execute_result"
        }
      ],
      "source": [
        "# greater than\n",
        "m>n"
      ]
    },
    {
      "cell_type": "code",
      "execution_count": 84,
      "metadata": {
        "id": "ug3MszHSVQaW"
      },
      "outputs": [],
      "source": [
        "# less than"
      ]
    },
    {
      "cell_type": "code",
      "execution_count": 85,
      "metadata": {
        "colab": {
          "base_uri": "https://localhost:8080/"
        },
        "id": "w3F-AebpVebw",
        "outputId": "8fe17e1f-e72f-43b8-c5c9-6ebcf95cb88e"
      },
      "outputs": [
        {
          "data": {
            "text/plain": [
              "tensor([[False,  True, False],\n",
              "        [ True, False,  True]])"
            ]
          },
          "execution_count": 85,
          "metadata": {},
          "output_type": "execute_result"
        }
      ],
      "source": [
        "m<n"
      ]
    },
    {
      "cell_type": "code",
      "execution_count": 86,
      "metadata": {
        "id": "f3H4P8vrVgIN"
      },
      "outputs": [],
      "source": [
        "# equal to"
      ]
    },
    {
      "cell_type": "code",
      "execution_count": 87,
      "metadata": {
        "colab": {
          "base_uri": "https://localhost:8080/"
        },
        "id": "Hwvvh_BcVjPc",
        "outputId": "a420b24a-6b6f-4ef6-a768-314b6292e244"
      },
      "outputs": [
        {
          "data": {
            "text/plain": [
              "tensor([[False, False,  True],\n",
              "        [False,  True, False]])"
            ]
          },
          "execution_count": 87,
          "metadata": {},
          "output_type": "execute_result"
        }
      ],
      "source": [
        "m==n"
      ]
    },
    {
      "cell_type": "code",
      "execution_count": 88,
      "metadata": {
        "colab": {
          "base_uri": "https://localhost:8080/"
        },
        "id": "UxVp39wCVkBO",
        "outputId": "a8aac20b-becd-43e8-97c6-fdd10654b50a"
      },
      "outputs": [
        {
          "data": {
            "text/plain": [
              "tensor([[ True,  True, False],\n",
              "        [ True, False,  True]])"
            ]
          },
          "execution_count": 88,
          "metadata": {},
          "output_type": "execute_result"
        }
      ],
      "source": [
        "# not equal to\n",
        "m!=n"
      ]
    },
    {
      "cell_type": "code",
      "execution_count": 89,
      "metadata": {
        "colab": {
          "base_uri": "https://localhost:8080/"
        },
        "id": "yv6aW5oMVw2Y",
        "outputId": "5d3a17f2-956f-49c9-87e5-562a04a2869c"
      },
      "outputs": [
        {
          "data": {
            "text/plain": [
              "tensor([[ True, False,  True],\n",
              "        [False,  True, False]])"
            ]
          },
          "execution_count": 89,
          "metadata": {},
          "output_type": "execute_result"
        }
      ],
      "source": [
        "# Greater than or eqaul to\n",
        "m>=n"
      ]
    },
    {
      "cell_type": "markdown",
      "metadata": {
        "id": "zA0ycT-CWR1j"
      },
      "source": [
        "# Special functins"
      ]
    },
    {
      "cell_type": "code",
      "execution_count": 90,
      "metadata": {
        "colab": {
          "base_uri": "https://localhost:8080/"
        },
        "id": "lLMoJP3rV8mJ",
        "outputId": "009ec913-f68c-4d41-e77b-29fcaf05ff2e"
      },
      "outputs": [
        {
          "data": {
            "text/plain": [
              "tensor([[8, 7, 8],\n",
              "        [9, 7, 3]])"
            ]
          },
          "execution_count": 90,
          "metadata": {},
          "output_type": "execute_result"
        }
      ],
      "source": [
        "s=torch.randint(size=(2,3),low=1,high=10)\n",
        "s"
      ]
    },
    {
      "cell_type": "code",
      "execution_count": 91,
      "metadata": {
        "colab": {
          "base_uri": "https://localhost:8080/"
        },
        "id": "fuCjW5ajWnOA",
        "outputId": "cea7a4e7-b068-4aba-e33c-0bd315639480"
      },
      "outputs": [
        {
          "data": {
            "text/plain": [
              "tensor([[2.0794, 1.9459, 2.0794],\n",
              "        [2.1972, 1.9459, 1.0986]])"
            ]
          },
          "execution_count": 91,
          "metadata": {},
          "output_type": "execute_result"
        }
      ],
      "source": [
        "# log\n",
        "torch.log(s)"
      ]
    },
    {
      "cell_type": "code",
      "execution_count": 92,
      "metadata": {
        "colab": {
          "base_uri": "https://localhost:8080/"
        },
        "id": "WZoXh_DyWy5G",
        "outputId": "7408738b-91a7-4679-dea7-3c5405bd2c60"
      },
      "outputs": [
        {
          "data": {
            "text/plain": [
              "tensor([[2980.9580, 1096.6332, 2980.9580],\n",
              "        [8103.0840, 1096.6332,   20.0855]])"
            ]
          },
          "execution_count": 92,
          "metadata": {},
          "output_type": "execute_result"
        }
      ],
      "source": [
        "# exp\n",
        "torch.exp(s)"
      ]
    },
    {
      "cell_type": "code",
      "execution_count": 93,
      "metadata": {
        "colab": {
          "base_uri": "https://localhost:8080/"
        },
        "id": "U5byL3eVW_R-",
        "outputId": "16e16ee0-d7e7-4be0-dfd0-1cb3ff12741a"
      },
      "outputs": [
        {
          "data": {
            "text/plain": [
              "tensor([[2.8284, 2.6458, 2.8284],\n",
              "        [3.0000, 2.6458, 1.7321]])"
            ]
          },
          "execution_count": 93,
          "metadata": {},
          "output_type": "execute_result"
        }
      ],
      "source": [
        "# sqrt\n",
        "torch.sqrt(s)"
      ]
    },
    {
      "cell_type": "code",
      "execution_count": 94,
      "metadata": {
        "colab": {
          "base_uri": "https://localhost:8080/"
        },
        "id": "B0s8XaVDXJAr",
        "outputId": "a3575734-e3ef-4005-cf4e-b69cc19e1cf2"
      },
      "outputs": [
        {
          "data": {
            "text/plain": [
              "tensor([[0.9997, 0.9991, 0.9997],\n",
              "        [0.9999, 0.9991, 0.9526]])"
            ]
          },
          "execution_count": 94,
          "metadata": {},
          "output_type": "execute_result"
        }
      ],
      "source": [
        "# sigmoid\n",
        "torch.sigmoid(s.float())"
      ]
    },
    {
      "cell_type": "code",
      "execution_count": 95,
      "metadata": {
        "colab": {
          "base_uri": "https://localhost:8080/"
        },
        "id": "XCuQ9ivbXVTm",
        "outputId": "b0720284-474d-400e-fd58-daa086058614"
      },
      "outputs": [
        {
          "data": {
            "text/plain": [
              "tensor([[0.2689, 0.5000, 0.9933],\n",
              "        [0.7311, 0.5000, 0.0067]])"
            ]
          },
          "execution_count": 95,
          "metadata": {},
          "output_type": "execute_result"
        }
      ],
      "source": [
        "# softmax\n",
        "torch.softmax(s.float(),dim=0)"
      ]
    },
    {
      "cell_type": "code",
      "execution_count": 96,
      "metadata": {
        "colab": {
          "base_uri": "https://localhost:8080/"
        },
        "id": "NZxs8P_qXjl9",
        "outputId": "8296c4d7-230e-4d5e-eed1-342e9edcd041"
      },
      "outputs": [
        {
          "data": {
            "text/plain": [
              "tensor([[8., 7., 8.],\n",
              "        [9., 7., 3.]])"
            ]
          },
          "execution_count": 96,
          "metadata": {},
          "output_type": "execute_result"
        }
      ],
      "source": [
        "# relu\n",
        "torch.relu(s.float())"
      ]
    },
    {
      "cell_type": "markdown",
      "metadata": {
        "id": "rONuL02SX9a1"
      },
      "source": [
        "# Inplace operations"
      ]
    },
    {
      "cell_type": "code",
      "execution_count": 97,
      "metadata": {
        "colab": {
          "base_uri": "https://localhost:8080/"
        },
        "id": "wBBdk4vIXuU1",
        "outputId": "0e86a531-1374-43a0-bbc2-ec34ba2fbe00"
      },
      "outputs": [
        {
          "name": "stdout",
          "output_type": "stream",
          "text": [
            "tensor([[2, 6, 5],\n",
            "        [3, 4, 8]])\n",
            "tensor([[4, 5, 3],\n",
            "        [8, 7, 3]])\n"
          ]
        }
      ],
      "source": [
        "s=torch.randint(size=(2,3),low=1,high=10)\n",
        "t=torch.randint(size=(2,3),low=1,high=10)\n",
        "print(s)\n",
        "print(t)"
      ]
    },
    {
      "cell_type": "code",
      "execution_count": 98,
      "metadata": {
        "colab": {
          "base_uri": "https://localhost:8080/"
        },
        "id": "jOqR-Fb6Yei5",
        "outputId": "76c5e213-1ba1-418f-fc45-05a6c4c729fb"
      },
      "outputs": [
        {
          "data": {
            "text/plain": [
              "tensor([[ 6, 11,  8],\n",
              "        [11, 11, 11]])"
            ]
          },
          "execution_count": 98,
          "metadata": {},
          "output_type": "execute_result"
        }
      ],
      "source": [
        "s+t"
      ]
    },
    {
      "cell_type": "code",
      "execution_count": 99,
      "metadata": {
        "colab": {
          "base_uri": "https://localhost:8080/"
        },
        "id": "v3N8YeQ2Yo2u",
        "outputId": "9d27cc89-82a3-4170-8d13-fe74e84f0b88"
      },
      "outputs": [
        {
          "data": {
            "text/plain": [
              "tensor([[ 6, 11,  8],\n",
              "        [11, 11, 11]])"
            ]
          },
          "execution_count": 99,
          "metadata": {},
          "output_type": "execute_result"
        }
      ],
      "source": [
        "s.add_(t)"
      ]
    },
    {
      "cell_type": "code",
      "execution_count": 100,
      "metadata": {
        "colab": {
          "base_uri": "https://localhost:8080/"
        },
        "id": "6j38eXgfcFzG",
        "outputId": "ccfe0a75-f9f5-489e-c0c7-125316744b20"
      },
      "outputs": [
        {
          "data": {
            "text/plain": [
              "tensor([[ 6, 11,  8],\n",
              "        [11, 11, 11]])"
            ]
          },
          "execution_count": 100,
          "metadata": {},
          "output_type": "execute_result"
        }
      ],
      "source": [
        "s"
      ]
    },
    {
      "cell_type": "code",
      "execution_count": 101,
      "metadata": {
        "colab": {
          "base_uri": "https://localhost:8080/"
        },
        "id": "l-8c7jkXcfb7",
        "outputId": "febb7903-e5c9-4adc-f90f-31a6fb93e6e3"
      },
      "outputs": [
        {
          "data": {
            "text/plain": [
              "tensor([[ 6, 11,  8],\n",
              "        [11, 11, 11]])"
            ]
          },
          "execution_count": 101,
          "metadata": {},
          "output_type": "execute_result"
        }
      ],
      "source": [
        "torch.relu(s)"
      ]
    },
    {
      "cell_type": "code",
      "execution_count": 102,
      "metadata": {
        "colab": {
          "base_uri": "https://localhost:8080/"
        },
        "id": "RFpIceTKc6Lu",
        "outputId": "9b2f24c2-ea56-41d9-a8f4-8e8baeeed5b4"
      },
      "outputs": [
        {
          "data": {
            "text/plain": [
              "tensor([[ 6, 11,  8],\n",
              "        [11, 11, 11]])"
            ]
          },
          "execution_count": 102,
          "metadata": {},
          "output_type": "execute_result"
        }
      ],
      "source": [
        "s.relu_()"
      ]
    },
    {
      "cell_type": "code",
      "execution_count": 103,
      "metadata": {
        "colab": {
          "base_uri": "https://localhost:8080/"
        },
        "id": "1aWhnkVvdNzk",
        "outputId": "547eba01-e4e2-4b7f-d931-85cf266650f7"
      },
      "outputs": [
        {
          "data": {
            "text/plain": [
              "tensor([[ 6, 11,  8],\n",
              "        [11, 11, 11]])"
            ]
          },
          "execution_count": 103,
          "metadata": {},
          "output_type": "execute_result"
        }
      ],
      "source": [
        "s"
      ]
    },
    {
      "cell_type": "code",
      "execution_count": 104,
      "metadata": {
        "colab": {
          "base_uri": "https://localhost:8080/"
        },
        "id": "KtaDI6vDdTXQ",
        "outputId": "ddae3efd-1068-49d8-dbdb-43bbe0fae785"
      },
      "outputs": [
        {
          "data": {
            "text/plain": [
              "tensor([[ 6, 11,  8],\n",
              "        [11, 11, 11]])"
            ]
          },
          "execution_count": 104,
          "metadata": {},
          "output_type": "execute_result"
        }
      ],
      "source": [
        "torch.relu_(s)"
      ]
    },
    {
      "cell_type": "markdown",
      "metadata": {
        "id": "k_3mWQExdbxc"
      },
      "source": [
        "# Copying a tensor"
      ]
    },
    {
      "cell_type": "code",
      "execution_count": 105,
      "metadata": {
        "colab": {
          "base_uri": "https://localhost:8080/"
        },
        "id": "g4gD4BxQdX2x",
        "outputId": "5bef0881-a810-4ca4-a3d1-708609725868"
      },
      "outputs": [
        {
          "data": {
            "text/plain": [
              "tensor([[0.3192, 0.5750],\n",
              "        [0.1538, 0.2540]])"
            ]
          },
          "execution_count": 105,
          "metadata": {},
          "output_type": "execute_result"
        }
      ],
      "source": [
        "from re import U\n",
        "u=torch.rand(2,2)\n",
        "u"
      ]
    },
    {
      "cell_type": "code",
      "execution_count": 106,
      "metadata": {
        "id": "Fe2zPJmId5Td"
      },
      "outputs": [],
      "source": [
        "v=u"
      ]
    },
    {
      "cell_type": "code",
      "execution_count": 107,
      "metadata": {
        "colab": {
          "base_uri": "https://localhost:8080/"
        },
        "id": "3knJcpnWeD7b",
        "outputId": "ba23ad07-3c4a-4c1d-d213-23a4e382311f"
      },
      "outputs": [
        {
          "data": {
            "text/plain": [
              "tensor([[0.3192, 0.5750],\n",
              "        [0.1538, 0.2540]])"
            ]
          },
          "execution_count": 107,
          "metadata": {},
          "output_type": "execute_result"
        }
      ],
      "source": [
        "v"
      ]
    },
    {
      "cell_type": "code",
      "execution_count": 108,
      "metadata": {
        "id": "OET74l2ieEZY"
      },
      "outputs": [],
      "source": [
        "u[0][0]=0"
      ]
    },
    {
      "cell_type": "code",
      "execution_count": 109,
      "metadata": {
        "colab": {
          "base_uri": "https://localhost:8080/"
        },
        "id": "EzqvLIyNePbS",
        "outputId": "8f22eabd-948a-4987-a619-d1c32c231b42"
      },
      "outputs": [
        {
          "data": {
            "text/plain": [
              "(tensor([[0.0000, 0.5750],\n",
              "         [0.1538, 0.2540]]),\n",
              " tensor([[0.0000, 0.5750],\n",
              "         [0.1538, 0.2540]]))"
            ]
          },
          "execution_count": 109,
          "metadata": {},
          "output_type": "execute_result"
        }
      ],
      "source": [
        "u,v"
      ]
    },
    {
      "cell_type": "code",
      "execution_count": 110,
      "metadata": {
        "colab": {
          "base_uri": "https://localhost:8080/"
        },
        "id": "5hvQgVHIeQYb",
        "outputId": "ee1115eb-7533-4cee-c458-46222425680c"
      },
      "outputs": [
        {
          "data": {
            "text/plain": [
              "2236531711008"
            ]
          },
          "execution_count": 110,
          "metadata": {},
          "output_type": "execute_result"
        }
      ],
      "source": [
        "id(u)"
      ]
    },
    {
      "cell_type": "code",
      "execution_count": 111,
      "metadata": {
        "colab": {
          "base_uri": "https://localhost:8080/"
        },
        "id": "5VIgxzhienbB",
        "outputId": "bebef292-a6ff-40b1-9f73-a03d78d908ce"
      },
      "outputs": [
        {
          "data": {
            "text/plain": [
              "2236531711008"
            ]
          },
          "execution_count": 111,
          "metadata": {},
          "output_type": "execute_result"
        }
      ],
      "source": [
        "id(v)"
      ]
    },
    {
      "cell_type": "code",
      "execution_count": 112,
      "metadata": {
        "id": "Vvvzotr0eoso"
      },
      "outputs": [],
      "source": [
        "# clone\n",
        "v=u.clone()"
      ]
    },
    {
      "cell_type": "code",
      "execution_count": 113,
      "metadata": {
        "colab": {
          "base_uri": "https://localhost:8080/"
        },
        "id": "Td2x6fGqe0sQ",
        "outputId": "72fbeb42-bfea-415b-950f-4401d5409108"
      },
      "outputs": [
        {
          "data": {
            "text/plain": [
              "tensor([[0.0000, 0.5750],\n",
              "        [0.1538, 0.2540]])"
            ]
          },
          "execution_count": 113,
          "metadata": {},
          "output_type": "execute_result"
        }
      ],
      "source": [
        "v"
      ]
    },
    {
      "cell_type": "code",
      "execution_count": 114,
      "metadata": {
        "id": "S5bXhzW2e1dq"
      },
      "outputs": [],
      "source": [
        "u[0][1]=1"
      ]
    },
    {
      "cell_type": "code",
      "execution_count": 115,
      "metadata": {
        "colab": {
          "base_uri": "https://localhost:8080/"
        },
        "id": "YhQokyJCe6Su",
        "outputId": "5f09ceac-8418-472b-98f7-bff83a7f8a2f"
      },
      "outputs": [
        {
          "data": {
            "text/plain": [
              "(tensor([[0.0000, 1.0000],\n",
              "         [0.1538, 0.2540]]),\n",
              " tensor([[0.0000, 0.5750],\n",
              "         [0.1538, 0.2540]]))"
            ]
          },
          "execution_count": 115,
          "metadata": {},
          "output_type": "execute_result"
        }
      ],
      "source": [
        "u,v"
      ]
    },
    {
      "cell_type": "markdown",
      "metadata": {
        "id": "JGkjC9eWf8ig"
      },
      "source": [
        "# Tensor operation on GPU"
      ]
    },
    {
      "cell_type": "code",
      "execution_count": 116,
      "metadata": {
        "colab": {
          "base_uri": "https://localhost:8080/"
        },
        "id": "hHVOPts3e7xL",
        "outputId": "1a96c965-4557-4d49-e0f1-d1deb5d785c7"
      },
      "outputs": [
        {
          "data": {
            "text/plain": [
              "True"
            ]
          },
          "execution_count": 116,
          "metadata": {},
          "output_type": "execute_result"
        }
      ],
      "source": [
        "torch.cuda.is_available()"
      ]
    },
    {
      "cell_type": "code",
      "execution_count": 117,
      "metadata": {
        "id": "PiaLGtB-gGN-"
      },
      "outputs": [],
      "source": [
        "device=torch.device('cuda')"
      ]
    },
    {
      "cell_type": "code",
      "execution_count": 118,
      "metadata": {
        "colab": {
          "base_uri": "https://localhost:8080/",
          "height": 280
        },
        "id": "pTXf7WI8gqBN",
        "outputId": "fffd22af-2034-4517-a314-486a952447e5"
      },
      "outputs": [
        {
          "data": {
            "text/plain": [
              "tensor([[0.3146, 0.1458, 0.3482],\n",
              "        [0.9447, 0.1015, 0.8101]], device='cuda:0')"
            ]
          },
          "execution_count": 118,
          "metadata": {},
          "output_type": "execute_result"
        }
      ],
      "source": [
        "# Creating new tensor on Gpu\n",
        "torch.rand( (2,3),device=device)"
      ]
    },
    {
      "cell_type": "code",
      "execution_count": 119,
      "metadata": {
        "id": "gBB_S1PGh_En"
      },
      "outputs": [],
      "source": [
        "# moving an existing tensor to GPU"
      ]
    },
    {
      "cell_type": "code",
      "execution_count": 120,
      "metadata": {
        "id": "oIGIAIS_iF14"
      },
      "outputs": [
        {
          "data": {
            "text/plain": [
              "tensor([[0.0022, 0.6848, 0.7497],\n",
              "        [0.2489, 0.3490, 0.1953]])"
            ]
          },
          "execution_count": 120,
          "metadata": {},
          "output_type": "execute_result"
        }
      ],
      "source": [
        "a"
      ]
    },
    {
      "cell_type": "code",
      "execution_count": 121,
      "metadata": {
        "id": "CNqps42riI0S"
      },
      "outputs": [
        {
          "data": {
            "text/plain": [
              "tensor([[0.0022, 0.6848, 0.7497],\n",
              "        [0.2489, 0.3490, 0.1953]], device='cuda:0')"
            ]
          },
          "execution_count": 121,
          "metadata": {},
          "output_type": "execute_result"
        }
      ],
      "source": [
        "G=a.to(device=device)\n",
        "G\n"
      ]
    },
    {
      "cell_type": "code",
      "execution_count": null,
      "metadata": {
        "id": "evatDrVIiVpz"
      },
      "outputs": [],
      "source": []
    },
    {
      "cell_type": "markdown",
      "metadata": {
        "id": "ZCb_-i1vjLTQ"
      },
      "source": [
        "# Performance comparison : CPU & GPU\n"
      ]
    },
    {
      "cell_type": "code",
      "execution_count": 122,
      "metadata": {
        "id": "IA1VK6IGjByt"
      },
      "outputs": [],
      "source": [
        "import time"
      ]
    },
    {
      "cell_type": "code",
      "execution_count": 123,
      "metadata": {
        "id": "ZJ9isoWOjOpf"
      },
      "outputs": [],
      "source": [
        "# Define matrix size\n",
        "size=10000"
      ]
    },
    {
      "cell_type": "code",
      "execution_count": 124,
      "metadata": {
        "id": "skUdEw5bjWaq"
      },
      "outputs": [],
      "source": [
        "mat_cpu1=torch.randn(size,size)\n",
        "mat_cpu2=torch.randn(size,size)"
      ]
    },
    {
      "cell_type": "code",
      "execution_count": 125,
      "metadata": {
        "colab": {
          "base_uri": "https://localhost:8080/"
        },
        "id": "jPOiSaDSje_8",
        "outputId": "40d860ad-6e52-4117-baad-ef4398ff1b33"
      },
      "outputs": [
        {
          "name": "stdout",
          "output_type": "stream",
          "text": [
            "time taken in Cpu is 9.549392223358154\n"
          ]
        }
      ],
      "source": [
        "# measures the time\n",
        "start=time.time()\n",
        "res_cpu=torch.matmul(mat_cpu1,mat_cpu2)\n",
        "cpu_time=time.time()-start\n",
        "\n",
        "print(f\"time taken in Cpu is {cpu_time}\")\n",
        "\n",
        "\n"
      ]
    },
    {
      "cell_type": "code",
      "execution_count": 126,
      "metadata": {
        "colab": {
          "base_uri": "https://localhost:8080/",
          "height": 332
        },
        "id": "h0fV1Fjkm-aY",
        "outputId": "fccdb1e7-09d7-44c7-ceae-76317ed03990"
      },
      "outputs": [
        {
          "name": "stdout",
          "output_type": "stream",
          "text": [
            "time taken in Cpu is 0.24860048294067383\n"
          ]
        }
      ],
      "source": [
        "# Moving arix to gpu\n",
        "mat_gpu1=mat_cpu1.to('cuda')\n",
        "mat_gpu2=mat_cpu2.to('cuda')\n",
        "\n",
        "\n",
        "# measure time\n",
        "\n",
        "start=time.time()\n",
        "res_gpu=torch.matmul(mat_gpu1,mat_gpu2)\n",
        "gpu_time=time.time()-start\n",
        "torch.cuda.synchronize()\n",
        "\n",
        "print(f\"time taken in Cpu is {gpu_time}\")"
      ]
    },
    {
      "cell_type": "markdown",
      "metadata": {
        "id": "0bCoAM4rpxxC"
      },
      "source": [
        " # reshaping tensors"
      ]
    },
    {
      "cell_type": "code",
      "execution_count": 127,
      "metadata": {
        "colab": {
          "base_uri": "https://localhost:8080/"
        },
        "id": "6bi2HaS8oHKG",
        "outputId": "f098fe67-8439-4a05-db1c-d886403d22b8"
      },
      "outputs": [
        {
          "data": {
            "text/plain": [
              "tensor([[1., 1., 1., 1.],\n",
              "        [1., 1., 1., 1.],\n",
              "        [1., 1., 1., 1.],\n",
              "        [1., 1., 1., 1.]])"
            ]
          },
          "execution_count": 127,
          "metadata": {},
          "output_type": "execute_result"
        }
      ],
      "source": [
        "\n",
        "a=torch.ones((4,4))\n",
        "a"
      ]
    },
    {
      "cell_type": "code",
      "execution_count": 128,
      "metadata": {
        "colab": {
          "base_uri": "https://localhost:8080/"
        },
        "id": "XrO0PWDop18P",
        "outputId": "ac85d6c5-a471-4c09-bba1-fb21ec0485c4"
      },
      "outputs": [
        {
          "data": {
            "text/plain": [
              "tensor([[[[1., 1.],\n",
              "          [1., 1.]],\n",
              "\n",
              "         [[1., 1.],\n",
              "          [1., 1.]]],\n",
              "\n",
              "\n",
              "        [[[1., 1.],\n",
              "          [1., 1.]],\n",
              "\n",
              "         [[1., 1.],\n",
              "          [1., 1.]]]])"
            ]
          },
          "execution_count": 128,
          "metadata": {},
          "output_type": "execute_result"
        }
      ],
      "source": [
        "# reshape\n",
        "a.reshape(2,2,2,2)"
      ]
    },
    {
      "cell_type": "code",
      "execution_count": 129,
      "metadata": {
        "colab": {
          "base_uri": "https://localhost:8080/"
        },
        "id": "JVNLYbQFqIzi",
        "outputId": "5a3cdcb6-2928-4deb-aabf-68412d7780a2"
      },
      "outputs": [
        {
          "data": {
            "text/plain": [
              "tensor([1., 1., 1., 1., 1., 1., 1., 1., 1., 1., 1., 1., 1., 1., 1., 1.])"
            ]
          },
          "execution_count": 129,
          "metadata": {},
          "output_type": "execute_result"
        }
      ],
      "source": [
        "# Flatten\n",
        "a.flatten()\n"
      ]
    },
    {
      "cell_type": "code",
      "execution_count": 130,
      "metadata": {
        "colab": {
          "base_uri": "https://localhost:8080/"
        },
        "id": "WtjrLwwmqNqq",
        "outputId": "8769da7c-6a94-4543-a9d7-e0902399b6ae"
      },
      "outputs": [
        {
          "data": {
            "text/plain": [
              "tensor([[[0.7455, 0.5947, 0.5939, 0.4995],\n",
              "         [0.3332, 0.6272, 0.9073, 0.4899],\n",
              "         [0.6020, 0.1876, 0.9578, 0.7122]],\n",
              "\n",
              "        [[0.2956, 0.9522, 0.7329, 0.2334],\n",
              "         [0.7504, 0.0606, 0.4756, 0.5282],\n",
              "         [0.0718, 0.7238, 0.0195, 0.0807]]])"
            ]
          },
          "execution_count": 130,
          "metadata": {},
          "output_type": "execute_result"
        }
      ],
      "source": [
        "b=torch.rand(2,3,4)\n",
        "b"
      ]
    },
    {
      "cell_type": "code",
      "execution_count": 131,
      "metadata": {
        "colab": {
          "base_uri": "https://localhost:8080/"
        },
        "id": "fBY0oWJYq8XG",
        "outputId": "bc30f9ee-b1e3-49a6-d362-1d34a2f264cf"
      },
      "outputs": [
        {
          "data": {
            "text/plain": [
              "tensor([[[0.7455, 0.3332, 0.6020],\n",
              "         [0.2956, 0.7504, 0.0718]],\n",
              "\n",
              "        [[0.5947, 0.6272, 0.1876],\n",
              "         [0.9522, 0.0606, 0.7238]],\n",
              "\n",
              "        [[0.5939, 0.9073, 0.9578],\n",
              "         [0.7329, 0.4756, 0.0195]],\n",
              "\n",
              "        [[0.4995, 0.4899, 0.7122],\n",
              "         [0.2334, 0.5282, 0.0807]]])"
            ]
          },
          "execution_count": 131,
          "metadata": {},
          "output_type": "execute_result"
        }
      ],
      "source": [
        "# permute\n",
        "b.permute(2,0,1)"
      ]
    },
    {
      "cell_type": "code",
      "execution_count": 132,
      "metadata": {
        "colab": {
          "base_uri": "https://localhost:8080/"
        },
        "id": "eo2nkJJurO8T",
        "outputId": "29deff2a-a109-43c9-95d7-2f49398d465f"
      },
      "outputs": [
        {
          "data": {
            "text/plain": [
              "torch.Size([1, 226, 226, 3])"
            ]
          },
          "execution_count": 132,
          "metadata": {},
          "output_type": "execute_result"
        }
      ],
      "source": [
        "# unsqueeze\n",
        "# image size\n",
        "c=torch.rand(size=(226,226,3))\n",
        "c.unsqueeze(0).shape"
      ]
    },
    {
      "cell_type": "code",
      "execution_count": 133,
      "metadata": {
        "colab": {
          "base_uri": "https://localhost:8080/"
        },
        "id": "Qp519uEIrnfP",
        "outputId": "998c5ffe-147c-4ed8-8e28-f1c1742f6a62"
      },
      "outputs": [
        {
          "data": {
            "text/plain": [
              "torch.Size([20])"
            ]
          },
          "execution_count": 133,
          "metadata": {},
          "output_type": "execute_result"
        }
      ],
      "source": [
        "# squeeze\n",
        "d=torch.rand(1,20)\n",
        "d.squeeze(0).shape\n"
      ]
    },
    {
      "cell_type": "markdown",
      "metadata": {
        "id": "yLQTfMKQ2In8"
      },
      "source": [
        "# Moving tensors between Numpy and Pytoch"
      ]
    },
    {
      "cell_type": "code",
      "execution_count": 134,
      "metadata": {
        "id": "4sy6keVE1-cA"
      },
      "outputs": [],
      "source": [
        "import numpy as np"
      ]
    },
    {
      "cell_type": "code",
      "execution_count": 135,
      "metadata": {
        "colab": {
          "base_uri": "https://localhost:8080/"
        },
        "id": "Q4fwOvCL2S1Y",
        "outputId": "c07f800b-c5c1-4f01-ffff-9b58f06449d3"
      },
      "outputs": [
        {
          "data": {
            "text/plain": [
              "tensor([1, 2, 3])"
            ]
          },
          "execution_count": 135,
          "metadata": {},
          "output_type": "execute_result"
        }
      ],
      "source": [
        "a=torch.tensor([1,2,3])\n",
        "a"
      ]
    },
    {
      "cell_type": "code",
      "execution_count": 136,
      "metadata": {
        "colab": {
          "base_uri": "https://localhost:8080/"
        },
        "id": "OU91qDGA2sHc",
        "outputId": "d57c32be-7bd3-4d29-f0c9-242618238e07"
      },
      "outputs": [
        {
          "data": {
            "text/plain": [
              "array([1, 2, 3], dtype=int64)"
            ]
          },
          "execution_count": 136,
          "metadata": {},
          "output_type": "execute_result"
        }
      ],
      "source": [
        "b=a.numpy()\n",
        "b"
      ]
    },
    {
      "cell_type": "code",
      "execution_count": 137,
      "metadata": {
        "colab": {
          "base_uri": "https://localhost:8080/"
        },
        "id": "UH-Fl8mM20ze",
        "outputId": "0a458692-68fc-49fe-d31a-428cc56778e4"
      },
      "outputs": [
        {
          "data": {
            "text/plain": [
              "numpy.ndarray"
            ]
          },
          "execution_count": 137,
          "metadata": {},
          "output_type": "execute_result"
        }
      ],
      "source": [
        "type(b)"
      ]
    },
    {
      "cell_type": "code",
      "execution_count": 138,
      "metadata": {
        "colab": {
          "base_uri": "https://localhost:8080/"
        },
        "id": "SjRetFQn27yq",
        "outputId": "5a3b5c95-e3d1-44ed-8793-ded742d6da86"
      },
      "outputs": [
        {
          "data": {
            "text/plain": [
              "array([5, 6, 7])"
            ]
          },
          "execution_count": 138,
          "metadata": {},
          "output_type": "execute_result"
        }
      ],
      "source": [
        "c=np.array([5,6,7])\n",
        "c"
      ]
    },
    {
      "cell_type": "code",
      "execution_count": 139,
      "metadata": {
        "id": "V0KWBWh33EPI"
      },
      "outputs": [],
      "source": [
        "d=torch.from_numpy(c)"
      ]
    },
    {
      "cell_type": "code",
      "execution_count": 140,
      "metadata": {
        "colab": {
          "base_uri": "https://localhost:8080/"
        },
        "id": "VVdX8gs-3KVd",
        "outputId": "5cc19e2c-3f0c-4d7f-fc9f-a8d966762790"
      },
      "outputs": [
        {
          "data": {
            "text/plain": [
              "torch.Tensor"
            ]
          },
          "execution_count": 140,
          "metadata": {},
          "output_type": "execute_result"
        }
      ],
      "source": [
        "type(d)"
      ]
    },
    {
      "cell_type": "code",
      "execution_count": null,
      "metadata": {
        "id": "T1lSlmAV3MSd"
      },
      "outputs": [],
      "source": []
    }
  ],
  "metadata": {
    "colab": {
      "provenance": []
    },
    "kernelspec": {
      "display_name": "base",
      "language": "python",
      "name": "python3"
    },
    "language_info": {
      "codemirror_mode": {
        "name": "ipython",
        "version": 3
      },
      "file_extension": ".py",
      "mimetype": "text/x-python",
      "name": "python",
      "nbconvert_exporter": "python",
      "pygments_lexer": "ipython3",
      "version": "3.12.4"
    }
  },
  "nbformat": 4,
  "nbformat_minor": 0
}
