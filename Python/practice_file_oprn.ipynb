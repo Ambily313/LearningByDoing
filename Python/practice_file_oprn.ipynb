{
 "cells": [
  {
   "cell_type": "markdown",
   "metadata": {},
   "source": [
    "# Basic File Operations"
   ]
  },
  {
   "cell_type": "markdown",
   "metadata": {},
   "source": [
    "\n",
    "\n",
    "\n",
    "\n",
    "\n",
    "\n",
    "\n",
    "\n",
    "\n"
   ]
  },
  {
   "cell_type": "markdown",
   "metadata": {},
   "source": [
    "### 1.Write a function to read a text file and print each line."
   ]
  },
  {
   "cell_type": "code",
   "execution_count": 5,
   "metadata": {},
   "outputs": [
    {
     "name": "stdout",
     "output_type": "stream",
     "text": [
      "Restarting your career as a data scientist and aiming for a salary package of 25 lakhs per annum is definitely achievable with the right approach and dedication. Here are some key strategies to consider:\n",
      "\n",
      "1. Skill Enhancement and Certification:\n",
      "\n",
      "Core Data Science Skills: Ensure you have a strong foundation in statistics, probability, machine learning, and programming languages like Python and R.\n",
      "Specialization: Consider specializing in a specific domain like natural language processing, computer vision, or financial data analysis to differentiate yourself.\n",
      "Certifications: Obtain relevant certifications from reputable organizations like Coursera, edX, or Kaggle to validate your skills.\n",
      "2. Project Portfolio:\n",
      "\n",
      "Personal Projects: Work on personal projects to showcase your skills and problem-solving abilities. Choose projects that align with your specialization and industry interests.\n",
      "Kaggle Competitions: Participate in Kaggle competitions to gain practical experience and learn from the data science community.\n",
      "Open-Source Contributions: Contribute to open-source projects to demonstrate your coding skills and collaboration abilities.\n",
      "3. Networking:\n",
      "\n",
      "LinkedIn: Actively maintain your LinkedIn profile, connect with data scientists, recruiters, and industry professionals.\n",
      "Data Science Communities: Join online communities like Reddit's r/datascience, Kaggle forums, and local meetups to network and learn from others.\n",
      "Mentorship: Seek mentorship from experienced data scientists to get guidance and career advice.\n",
      "4. Job Search Strategies:\n",
      "\n",
      "Targeted Job Search: Identify companies that align with your career goals and focus your job applications accordingly.\n",
      "Strong Resume and Cover Letter: Craft a compelling resume and cover letter highlighting your skills, projects, and achievements.\n",
      "Effective Interview Preparation: Practice technical and behavioral interview questions, and be prepared to discuss your projects and problem-solving skills.\n",
      "Negotiation Skills: Be confident in your abilities and negotiate for a salary package that reflects your value.\n",
      "5. Continuous Learning:\n",
      "\n",
      "Stay Updated: Keep up with the latest trends and advancements in data science by following blogs, attending conferences, and taking online courses.\n",
      "Lifelong Learning: Embrace a growth mindset and continuously seek opportunities to learn and improve your skills.\n",
      "Remember, landing a high-paying data science job requires a combination of technical expertise, practical experience, and effective communication skills. By focusing on these areas and staying persistent, you can successfully restart your career and achieve your salary goals.\n"
     ]
    }
   ],
   "source": [
    "def read_and_print_file(filename):\n",
    "    try:\n",
    "        with open(filename,'r') as f:\n",
    "            for line in f:\n",
    "                print(line.strip())\n",
    "        \n",
    "    except FileNotFoundError:\n",
    "        print(f\"{filename} is not found.\")\n",
    "    except Exception as e:\n",
    "        print(f\"An error {e} occured\")\n",
    "\n",
    "\n",
    "\n",
    "\n",
    "read_and_print_file('Goal.txt')\n"
   ]
  },
  {
   "cell_type": "markdown",
   "metadata": {},
   "source": [
    "### 2. Write a function to read a text file line by line and store it into a list."
   ]
  },
  {
   "cell_type": "code",
   "execution_count": 14,
   "metadata": {},
   "outputs": [
    {
     "data": {
      "text/plain": [
       "['Restarting your career as a data scientist and aiming for a salary package of 25 lakhs per annum is definitely achievable with the right approach and dedication. Here are some key strategies to consider:',\n",
       " '1. Skill Enhancement and Certification:',\n",
       " 'Core Data Science Skills: Ensure you have a strong foundation in statistics, probability, machine learning, and programming languages like Python and R.',\n",
       " 'Specialization: Consider specializing in a specific domain like natural language processing, computer vision, or financial data analysis to differentiate yourself.',\n",
       " 'Certifications: Obtain relevant certifications from reputable organizations like Coursera, edX, or Kaggle to validate your skills.',\n",
       " '2. Project Portfolio:',\n",
       " 'Personal Projects: Work on personal projects to showcase your skills and problem-solving abilities. Choose projects that align with your specialization and industry interests.',\n",
       " 'Kaggle Competitions: Participate in Kaggle competitions to gain practical experience and learn from the data science community.',\n",
       " 'Open-Source Contributions: Contribute to open-source projects to demonstrate your coding skills and collaboration abilities.',\n",
       " '3. Networking:',\n",
       " 'LinkedIn: Actively maintain your LinkedIn profile, connect with data scientists, recruiters, and industry professionals.',\n",
       " \"Data Science Communities: Join online communities like Reddit's r/datascience, Kaggle forums, and local meetups to network and learn from others.\",\n",
       " 'Mentorship: Seek mentorship from experienced data scientists to get guidance and career advice.',\n",
       " '4. Job Search Strategies:',\n",
       " 'Targeted Job Search: Identify companies that align with your career goals and focus your job applications accordingly.',\n",
       " 'Strong Resume and Cover Letter: Craft a compelling resume and cover letter highlighting your skills, projects, and achievements.',\n",
       " 'Effective Interview Preparation: Practice technical and behavioral interview questions, and be prepared to discuss your projects and problem-solving skills.',\n",
       " 'Negotiation Skills: Be confident in your abilities and negotiate for a salary package that reflects your value.',\n",
       " '5. Continuous Learning:',\n",
       " 'Stay Updated: Keep up with the latest trends and advancements in data science by following blogs, attending conferences, and taking online courses.',\n",
       " 'Lifelong Learning: Embrace a growth mindset and continuously seek opportunities to learn and improve your skills.',\n",
       " 'Remember, landing a high-paying data science job requires a combination of technical expertise, practical experience, and effective communication skills. By focusing on these areas and staying persistent, you can successfully restart your career and achieve your salary goals.']"
      ]
     },
     "execution_count": 14,
     "metadata": {},
     "output_type": "execute_result"
    }
   ],
   "source": [
    "def read_file_to_list(filename):\n",
    "    data_in_lines=[]\n",
    "    try:\n",
    "        with open (filename,'r') as file:\n",
    "           data_in_lines=[ line.strip() for line in file if line.strip() ]\n",
    "        \n",
    "       \n",
    "\n",
    "    except FileNotFoundError:\n",
    "        print(f\"The file {filename} is not found\")\n",
    "\n",
    "    except Exception as e:\n",
    "        print(f\"An error occured: {e}\")\n",
    "\n",
    "    return data_in_lines\n",
    "    \n",
    "\n",
    "\n",
    "read_file_to_list('Goal.txt')\n",
    "\n",
    "\n",
    "\n"
   ]
  },
  {
   "cell_type": "markdown",
   "metadata": {},
   "source": [
    "### Reading Excel files to list"
   ]
  },
  {
   "cell_type": "code",
   "execution_count": 14,
   "metadata": {},
   "outputs": [],
   "source": [
    "import pandas as pd\n",
    "\n",
    "def read_excel_to_list(filename):\n",
    "    try:\n",
    "        data = pd.read_excel(filename)  # reads the Excel file\n",
    "        rows = data.values.tolist()     # converts the data to a list of rows\n",
    "        return rows\n",
    "    except FileNotFoundError:\n",
    "        print(f\"The file '{filename}' was not found.\")\n",
    "    except Exception as e:\n",
    "        print(f\"An error occurred: {e}\")\n",
    "\n",
    "# Usage example:\n",
    "# rows = read_excel_to_list('example.xlsx')\n",
    "# print(rows)\n"
   ]
  },
  {
   "cell_type": "markdown",
   "metadata": {},
   "source": [
    "####  Reading Word Files"
   ]
  },
  {
   "cell_type": "code",
   "execution_count": null,
   "metadata": {},
   "outputs": [],
   "source": [
    "from docx import Document\n",
    "\n",
    "def read_word_to_list(filename):\n",
    "    try:\n",
    "        doc = Document(filename)\n",
    "        paragraphs = [para.text for para in doc.paragraphs]  # reads each paragraph\n",
    "        return paragraphs\n",
    "    except FileNotFoundError:\n",
    "        print(f\"The file '{filename}' was not found.\")\n",
    "    except Exception as e:\n",
    "        print(f\"An error occurred: {e}\")\n",
    "\n",
    "# Usage example:\n",
    "# paragraphs = read_word_to_list('example.docx')\n",
    "# print(paragraphs)\n"
   ]
  },
  {
   "cell_type": "markdown",
   "metadata": {},
   "source": [
    "### 3.Write a function to count the number of lines in a text file."
   ]
  },
  {
   "cell_type": "code",
   "execution_count": 16,
   "metadata": {},
   "outputs": [
    {
     "data": {
      "text/plain": [
       "28"
      ]
     },
     "execution_count": 16,
     "metadata": {},
     "output_type": "execute_result"
    }
   ],
   "source": [
    "def count_lines_in_file(filename):\n",
    "    try:\n",
    "        with open(filename,'r') as f:\n",
    "            line_count=sum( 1 for lines in f)\n",
    "            return line_count\n",
    "\n",
    "    except FileNotFoundError:\n",
    "        print(f\"file {filename} is not found \")\n",
    "\n",
    "    except Exception as e:\n",
    "        print(f\"An error {e} occured\")\n",
    "\n",
    "count_lines_in_file('Goal.txt')"
   ]
  },
  {
   "cell_type": "markdown",
   "metadata": {},
   "source": [
    "### 4.Write a function to read a file and count the frequency of each word."
   ]
  },
  {
   "cell_type": "code",
   "execution_count": 6,
   "metadata": {},
   "outputs": [
    {
     "data": {
      "text/plain": [
       "{'restarting': 1,\n",
       " 'your': 15,\n",
       " 'career': 4,\n",
       " 'as': 1,\n",
       " 'a': 9,\n",
       " 'data': 9,\n",
       " 'scientist': 1,\n",
       " 'and': 28,\n",
       " 'aiming': 1,\n",
       " 'for': 2,\n",
       " 'salary': 3,\n",
       " 'package': 2,\n",
       " 'of': 2,\n",
       " '25': 1,\n",
       " 'lakhs': 1,\n",
       " 'per': 1,\n",
       " 'annum': 1,\n",
       " 'is': 1,\n",
       " 'definitely': 1,\n",
       " 'achievable': 1,\n",
       " 'with': 5,\n",
       " 'the': 3,\n",
       " 'right': 1,\n",
       " 'approach': 1,\n",
       " 'dedication': 1,\n",
       " 'here': 1,\n",
       " 'are': 1,\n",
       " 'some': 1,\n",
       " 'key': 1,\n",
       " 'strategies': 1,\n",
       " 'to': 11,\n",
       " 'consider:': 1,\n",
       " '1': 1,\n",
       " 'skill': 1,\n",
       " 'enhancement': 1,\n",
       " 'certification:': 1,\n",
       " 'core': 1,\n",
       " 'science': 5,\n",
       " 'skills:': 2,\n",
       " 'ensure': 1,\n",
       " 'you': 2,\n",
       " 'have': 1,\n",
       " 'strong': 2,\n",
       " 'foundation': 1,\n",
       " 'in': 5,\n",
       " 'statistics': 1,\n",
       " 'probability': 1,\n",
       " 'machine': 1,\n",
       " 'learning': 1,\n",
       " 'programming': 1,\n",
       " 'languages': 1,\n",
       " 'like': 4,\n",
       " 'python': 1,\n",
       " 'r': 1,\n",
       " 'specialization:': 1,\n",
       " 'consider': 1,\n",
       " 'specializing': 1,\n",
       " 'specific': 1,\n",
       " 'domain': 1,\n",
       " 'natural': 1,\n",
       " 'language': 1,\n",
       " 'processing': 1,\n",
       " 'computer': 1,\n",
       " 'vision': 1,\n",
       " 'or': 2,\n",
       " 'financial': 1,\n",
       " 'analysis': 1,\n",
       " 'differentiate': 1,\n",
       " 'yourself': 1,\n",
       " 'certifications:': 1,\n",
       " 'obtain': 1,\n",
       " 'relevant': 1,\n",
       " 'certifications': 1,\n",
       " 'from': 4,\n",
       " 'reputable': 1,\n",
       " 'organizations': 1,\n",
       " 'coursera': 1,\n",
       " 'edx': 1,\n",
       " 'kaggle': 4,\n",
       " 'validate': 1,\n",
       " 'skills': 7,\n",
       " '2': 1,\n",
       " 'project': 1,\n",
       " 'portfolio:': 1,\n",
       " 'personal': 2,\n",
       " 'projects:': 1,\n",
       " 'work': 1,\n",
       " 'on': 2,\n",
       " 'projects': 5,\n",
       " 'showcase': 1,\n",
       " 'problem-solving': 2,\n",
       " 'abilities': 3,\n",
       " 'choose': 1,\n",
       " 'that': 3,\n",
       " 'align': 2,\n",
       " 'specialization': 1,\n",
       " 'industry': 2,\n",
       " 'interests': 1,\n",
       " 'competitions:': 1,\n",
       " 'participate': 1,\n",
       " 'competitions': 1,\n",
       " 'gain': 1,\n",
       " 'practical': 2,\n",
       " 'experience': 2,\n",
       " 'learn': 3,\n",
       " 'community': 1,\n",
       " 'open-source': 2,\n",
       " 'contributions:': 1,\n",
       " 'contribute': 1,\n",
       " 'demonstrate': 1,\n",
       " 'coding': 1,\n",
       " 'collaboration': 1,\n",
       " '3': 1,\n",
       " 'networking:': 1,\n",
       " 'linkedin:': 1,\n",
       " 'actively': 1,\n",
       " 'maintain': 1,\n",
       " 'linkedin': 1,\n",
       " 'profile': 1,\n",
       " 'connect': 1,\n",
       " 'scientists': 2,\n",
       " 'recruiters': 1,\n",
       " 'professionals': 1,\n",
       " 'communities:': 1,\n",
       " 'join': 1,\n",
       " 'online': 2,\n",
       " 'communities': 1,\n",
       " \"reddit's\": 1,\n",
       " 'r/datascience': 1,\n",
       " 'forums': 1,\n",
       " 'local': 1,\n",
       " 'meetups': 1,\n",
       " 'network': 1,\n",
       " 'others': 1,\n",
       " 'mentorship:': 1,\n",
       " 'seek': 2,\n",
       " 'mentorship': 1,\n",
       " 'experienced': 1,\n",
       " 'get': 1,\n",
       " 'guidance': 1,\n",
       " 'advice': 1,\n",
       " '4': 1,\n",
       " 'job': 4,\n",
       " 'search': 1,\n",
       " 'strategies:': 1,\n",
       " 'targeted': 1,\n",
       " 'search:': 1,\n",
       " 'identify': 1,\n",
       " 'companies': 1,\n",
       " 'goals': 2,\n",
       " 'focus': 1,\n",
       " 'applications': 1,\n",
       " 'accordingly': 1,\n",
       " 'resume': 2,\n",
       " 'cover': 2,\n",
       " 'letter:': 1,\n",
       " 'craft': 1,\n",
       " 'compelling': 1,\n",
       " 'letter': 1,\n",
       " 'highlighting': 1,\n",
       " 'achievements': 1,\n",
       " 'effective': 2,\n",
       " 'interview': 2,\n",
       " 'preparation:': 1,\n",
       " 'practice': 1,\n",
       " 'technical': 2,\n",
       " 'behavioral': 1,\n",
       " 'questions': 1,\n",
       " 'be': 2,\n",
       " 'prepared': 1,\n",
       " 'discuss': 1,\n",
       " 'negotiation': 1,\n",
       " 'confident': 1,\n",
       " 'negotiate': 1,\n",
       " 'reflects': 1,\n",
       " 'value': 1,\n",
       " '5': 1,\n",
       " 'continuous': 1,\n",
       " 'learning:': 2,\n",
       " 'stay': 1,\n",
       " 'updated:': 1,\n",
       " 'keep': 1,\n",
       " 'up': 1,\n",
       " 'latest': 1,\n",
       " 'trends': 1,\n",
       " 'advancements': 1,\n",
       " 'by': 2,\n",
       " 'following': 1,\n",
       " 'blogs': 1,\n",
       " 'attending': 1,\n",
       " 'conferences': 1,\n",
       " 'taking': 1,\n",
       " 'courses': 1,\n",
       " 'lifelong': 1,\n",
       " 'embrace': 1,\n",
       " 'growth': 1,\n",
       " 'mindset': 1,\n",
       " 'continuously': 1,\n",
       " 'opportunities': 1,\n",
       " 'improve': 1,\n",
       " 'remember': 1,\n",
       " 'landing': 1,\n",
       " 'high-paying': 1,\n",
       " 'requires': 1,\n",
       " 'combination': 1,\n",
       " 'expertise': 1,\n",
       " 'communication': 1,\n",
       " 'focusing': 1,\n",
       " 'these': 1,\n",
       " 'areas': 1,\n",
       " 'staying': 1,\n",
       " 'persistent': 1,\n",
       " 'can': 1,\n",
       " 'successfully': 1,\n",
       " 'restart': 1,\n",
       " 'achieve': 1}"
      ]
     },
     "execution_count": 6,
     "metadata": {},
     "output_type": "execute_result"
    }
   ],
   "source": [
    "def word_counting(filename):\n",
    "    word_count={}\n",
    "\n",
    "    try:\n",
    "        with open(filename,'r') as f:\n",
    "            for lines in f:\n",
    "                words=lines.lower().split()\n",
    "\n",
    "                for word in words:\n",
    "                    word=word.strip(\"!$,.;'/{}[]()\")\n",
    "\n",
    "                    if word in word_count:\n",
    "                        word_count[word]+=1\n",
    "                    else:\n",
    "                        word_count[word]=1\n",
    "\n",
    "        return word_count\n",
    "    except FileNotFoundError:\n",
    "        print(f\"file {filename}  is not found\")\n",
    "\n",
    "    except Exception as e:\n",
    "        print(f\"An error {e} occured \")\n",
    "\n",
    "\n",
    "\n",
    "word_counting('Goal.txt')            "
   ]
  },
  {
   "cell_type": "markdown",
   "metadata": {},
   "source": [
    "### 5.Write a function to write a list of strings to a text file."
   ]
  },
  {
   "cell_type": "code",
   "execution_count": 35,
   "metadata": {},
   "outputs": [
    {
     "name": "stdout",
     "output_type": "stream",
     "text": [
      "Data successfully written to output1.txt\n"
     ]
    }
   ],
   "source": [
    "def write_list_to_file(filename,string_list):\n",
    "\n",
    "    try:\n",
    "        with open(filename,'w') as f:\n",
    "            for strings in string_list:\n",
    "                f.write(strings + '\\n')\n",
    "\n",
    "        print(f\"Data successfully written to {filename}\")\n",
    "\n",
    "    except FileNotFoundError:\n",
    "        print(f\"file {filename} is not found\")\n",
    "    except Exception as e:\n",
    "        print(\"An error: {e} occured\")\n",
    "\n",
    "write_list_to_file('output1.txt',[\"Hello my name is Amy\",'I am in love ','I love kids'])\n",
    "    "
   ]
  },
  {
   "cell_type": "markdown",
   "metadata": {},
   "source": []
  },
  {
   "cell_type": "markdown",
   "metadata": {},
   "source": [
    "### 6.Write a function to append text to an existing file."
   ]
  },
  {
   "cell_type": "code",
   "execution_count": 17,
   "metadata": {},
   "outputs": [
    {
     "name": "stdout",
     "output_type": "stream",
     "text": [
      "The data has been appended successfully to output1.txt\n"
     ]
    }
   ],
   "source": [
    "def append_text(filename,textdata):\n",
    "\n",
    "    try:\n",
    "        with open (filename,'a') as f:\n",
    "            f.write(textdata + '\\n')\n",
    "        \n",
    "        print(f\"The data has been appended successfully to {filename}\")\n",
    "\n",
    "    except FileNotFoundError:\n",
    "        print(f\"File {filename} not found\")\n",
    "    except Exception as e:\n",
    "        print (f\"An error {e}  occured\")\n",
    "\n",
    "\n",
    "append_text('output1.txt','I love travelling')\n"
   ]
  },
  {
   "cell_type": "markdown",
   "metadata": {},
   "source": [
    "#### 7.Write a function to delete a specific line from a file."
   ]
  },
  {
   "cell_type": "code",
   "execution_count": 26,
   "metadata": {},
   "outputs": [
    {
     "name": "stdout",
     "output_type": "stream",
     "text": [
      "The data 'Hello my name is Amy ' was not found in the file.\n"
     ]
    }
   ],
   "source": [
    "def delete_specific_line(filename, text_to_delete):\n",
    "    try:\n",
    "        # Read the file and store all lines in a list\n",
    "        with open(filename, 'r') as f:\n",
    "            data = [line for line in f]\n",
    "\n",
    "        # Check if the line to delete exists in the file\n",
    "        lines_to_delete = [line for line in data if line.strip() == text_to_delete.strip()]\n",
    "        \n",
    "        if not lines_to_delete:\n",
    "            print(f\"The data '{text_to_delete}' was not found in the file.\")\n",
    "            return\n",
    "\n",
    "        # Open the file in write mode to overwrite it\n",
    "        with open(filename, 'w') as f:\n",
    "            for line in data:\n",
    "                # Check if the stripped line is not equal to the text to delete\n",
    "                if line.strip() != text_to_delete.strip():\n",
    "                    f.write(line)\n",
    "\n",
    "        print(f\"Data '{text_to_delete}' has been removed from {filename}\")\n",
    "    except FileNotFoundError:\n",
    "        print(f\"File {filename} is not found\")\n",
    "    except Exception as e:\n",
    "        print(f\"An exception {e} occurred\")\n",
    "\n",
    "# Example usage:\n",
    "delete_specific_line('output1.txt', 'Hello my name is Amy ')\n"
   ]
  },
  {
   "cell_type": "markdown",
   "metadata": {},
   "source": [
    "#### 8.Write a function to read a file and remove all blank lines."
   ]
  },
  {
   "cell_type": "code",
   "execution_count": 31,
   "metadata": {},
   "outputs": [
    {
     "name": "stdout",
     "output_type": "stream",
     "text": [
      "Blank lines have been removed from output1.txt\n"
     ]
    }
   ],
   "source": [
    "def remove_blank_lines(filename):\n",
    "    try:\n",
    "        # Read the file and store all lines in a list, excluding blank lines\n",
    "        with open(filename, 'r') as f:\n",
    "            lines = [line for line in f if line.strip() != '']\n",
    "\n",
    "        # Open the file again in write mode to overwrite it with non-blank lines\n",
    "        with open(filename, 'w') as f:\n",
    "            f.writelines(lines)\n",
    "\n",
    "        print(f\"Blank lines have been removed from {filename}\")\n",
    "    \n",
    "    except FileNotFoundError:\n",
    "        print(f\"File {filename} not found.\")\n",
    "    except Exception as e:\n",
    "        print(f\"An error occurred: {e}\")\n",
    "\n",
    "# Example usage:\n",
    "# remove_blank_lines('example.txt')\n",
    "\n",
    "\n",
    "remove_blank_lines('output1.txt')\n"
   ]
  },
  {
   "cell_type": "markdown",
   "metadata": {},
   "source": [
    "#### 9.Write a function to replace a specific word in a file."
   ]
  },
  {
   "cell_type": "code",
   "execution_count": 36,
   "metadata": {},
   "outputs": [
    {
     "name": "stdout",
     "output_type": "stream",
     "text": [
      "['Hello my name is Amy\\n', 'I am in love \\n', 'I love kids\\n']\n",
      "'love' has been replaced with 'like' in output1.txt\n"
     ]
    }
   ],
   "source": [
    "def replace_word_in_file(filename, old_word, new_word):\n",
    "    try:\n",
    "        # Read the file and store all lines in a list\n",
    "        with open(filename, 'r') as f:\n",
    "            lines = f.readlines()\n",
    "        \n",
    "        print(lines)\n",
    "\n",
    "        # Open the file again in write mode to overwrite it with the updated content\n",
    "        with open(filename, 'w') as f:\n",
    "            for line in lines:\n",
    "                # Replace occurrences of the old word with the new word\n",
    "                updated_line = line.replace(old_word, new_word)\n",
    "                f.write(updated_line)\n",
    "\n",
    "        print(f\"'{old_word}' has been replaced with '{new_word}' in {filename}\")\n",
    "\n",
    "    except FileNotFoundError:\n",
    "        print(f\"File {filename} not found.\")\n",
    "    except Exception as e:\n",
    "        print(f\"An error occurred: {e}\")\n",
    "\n",
    "# Example usage:\n",
    "replace_word_in_file('output1.txt', 'love', 'like')\n",
    "\n"
   ]
  },
  {
   "cell_type": "markdown",
   "metadata": {},
   "source": [
    "#### 10.Write a function to find and replace all occurrences of a word in a file."
   ]
  },
  {
   "cell_type": "code",
   "execution_count": 37,
   "metadata": {},
   "outputs": [],
   "source": [
    "def find_and_replace_word(filename, old_word, new_word):\n",
    "    try:\n",
    "        # Read the file and store all lines in a list\n",
    "        with open(filename, 'r') as f:\n",
    "            lines = f.readlines()\n",
    "\n",
    "        # Open the file again in write mode to overwrite it with the updated content\n",
    "        with open(filename, 'w') as f:\n",
    "            for line in lines:\n",
    "                # Replace all occurrences of the old word with the new word\n",
    "                updated_line = line.replace(old_word, new_word)\n",
    "                f.write(updated_line)\n",
    "\n",
    "        print(f\"All occurrences of '{old_word}' have been replaced with '{new_word}' in {filename}\")\n",
    "\n",
    "    except FileNotFoundError:\n",
    "        print(f\"File {filename} not found.\")\n",
    "    except Exception as e:\n",
    "        print(f\"An error occurred: {e}\")\n",
    "\n",
    "# Example usage:\n",
    "# find_and_replace_word('example.txt', 'oldword', 'newword')\n"
   ]
  },
  {
   "cell_type": "markdown",
   "metadata": {},
   "source": [
    "# Working with File Paths"
   ]
  },
  {
   "cell_type": "markdown",
   "metadata": {},
   "source": [
    "\n",
    "\n",
    "\n",
    "\n",
    "\n",
    "\n",
    ".\n"
   ]
  },
  {
   "cell_type": "markdown",
   "metadata": {},
   "source": [
    "#### 11.Write a function to check if a file exists in a specified path"
   ]
  },
  {
   "cell_type": "code",
   "execution_count": 5,
   "metadata": {},
   "outputs": [
    {
     "name": "stdout",
     "output_type": "stream",
     "text": [
      "The file D:\\Coding\\Python\\output1.txt exists.\n"
     ]
    },
    {
     "name": "stderr",
     "output_type": "stream",
     "text": [
      "<>:19: SyntaxWarning: invalid escape sequence '\\C'\n",
      "<>:19: SyntaxWarning: invalid escape sequence '\\C'\n",
      "C:\\Users\\hp\\AppData\\Local\\Temp\\ipykernel_14568\\1594829117.py:19: SyntaxWarning: invalid escape sequence '\\C'\n",
      "  chkng_file_path('D:\\Coding\\Python\\output1.txt')\n"
     ]
    },
    {
     "data": {
      "text/plain": [
       "True"
      ]
     },
     "execution_count": 5,
     "metadata": {},
     "output_type": "execute_result"
    }
   ],
   "source": [
    "import os\n",
    "\n",
    "def chkng_file_path(filepath):\n",
    "    try:\n",
    "        \n",
    "       if os.path.isfile(filepath):\n",
    "           print(f\"The file {filepath} exists.\")\n",
    "\n",
    "           return True\n",
    "       else:\n",
    "           print(f\"The file {filepath} doesnt exist.\")\n",
    "           return False\n",
    "    \n",
    "    except  Exception as e:\n",
    "        print(f\"An error {e} occured \")\n",
    "        return False\n",
    "\n",
    "\n",
    "chkng_file_path('D:\\Coding\\Python\\output1.txt')\n",
    "           \n",
    "\n"
   ]
  },
  {
   "cell_type": "markdown",
   "metadata": {},
   "source": [
    "#### 12.Write a function to rename a file."
   ]
  },
  {
   "cell_type": "code",
   "execution_count": 4,
   "metadata": {},
   "outputs": [
    {
     "name": "stdout",
     "output_type": "stream",
     "text": [
      "the output1.txt doesnt exist\n"
     ]
    }
   ],
   "source": [
    "import os\n",
    "def file_rename(old_filename,new_filename):\n",
    "    try:\n",
    "        if os.path.isfile(old_filename):\n",
    "            os.rename(old_filename,new_filename)\n",
    "            print(f\"the {old_filename} is renamred to {new_filename}\")\n",
    "        else:\n",
    "            print(f\"the {old_filename} doesnt exist\")\n",
    "\n",
    "    except FileNotFoundError:\n",
    "        print(f\"the {old_filename} not found\")\n",
    "        \n",
    "    except FileExistsError:\n",
    "        print(f\"the {new_filename} not found\")\n",
    "    \n",
    "    except Exception as e:\n",
    "        print(f\"An error {e} has occured \")\n",
    "\n",
    "\n",
    "file_rename('output1.txt','output.txt')"
   ]
  },
  {
   "cell_type": "markdown",
   "metadata": {},
   "source": [
    "#### 13.Write a function to delete a file."
   ]
  },
  {
   "cell_type": "code",
   "execution_count": null,
   "metadata": {},
   "outputs": [],
   "source": [
    "\n",
    "import os\n",
    "def delete_file(filename):\n",
    "    try:\n",
    "        if os.path.isfile(filename):\n",
    "            os.remove(filename)\n",
    "            print(f\"the file {filename} has been deleted\")\n",
    "        else:\n",
    "            print(f\"the file {filename} doesnt exists\")\n",
    "\n",
    "    except FileNotFoundError:\n",
    "        print(f\"the {filename} is not found\")\n",
    "\n",
    "    except Exception as e:\n",
    "        print(f\"an error {e} has occured\")\n",
    "\n",
    "delete_file('out.txt')"
   ]
  },
  {
   "cell_type": "markdown",
   "metadata": {},
   "source": [
    "#### 14.Write a function to get the file size of a given file."
   ]
  },
  {
   "cell_type": "code",
   "execution_count": 3,
   "metadata": {},
   "outputs": [
    {
     "name": "stdout",
     "output_type": "stream",
     "text": [
      "The size of file output.txt is 50\n"
     ]
    },
    {
     "data": {
      "text/plain": [
       "50"
      ]
     },
     "execution_count": 3,
     "metadata": {},
     "output_type": "execute_result"
    }
   ],
   "source": [
    "import os\n",
    "\n",
    "def file_size(filename):\n",
    "    try:\n",
    "        if os.path.isfile(filename):\n",
    "            size=os.path.getsize(filename)\n",
    "            print(f\"The size of file {filename} is {size}\")\n",
    "            return size\n",
    "\n",
    "        else:\n",
    "            print(\"The file doesn't exists..\")\n",
    "            return None\n",
    "\n",
    "    except Exception as e:\n",
    "        print(f\"An error occured: {e}\")\n",
    "        return None\n",
    "\n",
    "file_size('output.txt')\n"
   ]
  },
  {
   "cell_type": "markdown",
   "metadata": {},
   "source": [
    "#### 15.Write a function to list all files in a directory."
   ]
  },
  {
   "cell_type": "code",
   "execution_count": 5,
   "metadata": {},
   "outputs": [
    {
     "name": "stdout",
     "output_type": "stream",
     "text": [
      "Files in 'D:\\Coding\\Python':\n",
      "FilesOperation.ipynb\n",
      "Goal.txt\n",
      "log_details.log\n",
      "MLsample ENDTOENDProjct.ipynb\n",
      "model.pkl\n",
      "output.txt\n",
      "practice_file_oprn.ipynb\n",
      "Practice_function.ipynb\n",
      "Practice_Python.ipynb\n",
      "python_basics_ineuron.ipynb\n",
      "wallmartsales.ipynb\n"
     ]
    },
    {
     "name": "stderr",
     "output_type": "stream",
     "text": [
      "<>:27: SyntaxWarning: invalid escape sequence '\\C'\n",
      "<>:27: SyntaxWarning: invalid escape sequence '\\C'\n",
      "C:\\Users\\hp\\AppData\\Local\\Temp\\ipykernel_9748\\103630421.py:27: SyntaxWarning: invalid escape sequence '\\C'\n",
      "  list_files_in_directory('D:\\Coding\\Python')\n"
     ]
    },
    {
     "data": {
      "text/plain": [
       "['FilesOperation.ipynb',\n",
       " 'Goal.txt',\n",
       " 'log_details.log',\n",
       " 'MLsample ENDTOENDProjct.ipynb',\n",
       " 'model.pkl',\n",
       " 'output.txt',\n",
       " 'practice_file_oprn.ipynb',\n",
       " 'Practice_function.ipynb',\n",
       " 'Practice_Python.ipynb',\n",
       " 'python_basics_ineuron.ipynb',\n",
       " 'wallmartsales.ipynb']"
      ]
     },
     "execution_count": 5,
     "metadata": {},
     "output_type": "execute_result"
    }
   ],
   "source": [
    "import os\n",
    "\n",
    "def list_files_in_directory(directory_path):\n",
    "    try:\n",
    "        # Check if the directory exists\n",
    "        if os.path.isdir(directory_path):\n",
    "            files = os.listdir(directory_path)  # List all items in the directory\n",
    "            # Filter to include only files, excluding subdirectories\n",
    "            file_list = [file for file in files if os.path.isfile(os.path.join(directory_path, file))]\n",
    "            \n",
    "            if file_list:\n",
    "                print(f\"Files in '{directory_path}':\")\n",
    "                for file in file_list:\n",
    "                    print(file)\n",
    "            else:\n",
    "                print(f\"No files found in '{directory_path}'.\")\n",
    "                \n",
    "            return file_list\n",
    "        else:\n",
    "            print(f\"The directory '{directory_path}' does not exist.\")\n",
    "            return None\n",
    "    except Exception as e:\n",
    "        print(f\"An error occurred: {e}\")\n",
    "        return None\n",
    "\n",
    "# Example usage\n",
    "list_files_in_directory('D:\\Coding\\Python')\n"
   ]
  },
  {
   "cell_type": "markdown",
   "metadata": {},
   "source": [
    "#### 16.Write a function to check if a file is readable."
   ]
  },
  {
   "cell_type": "code",
   "execution_count": 11,
   "metadata": {},
   "outputs": [
    {
     "name": "stdout",
     "output_type": "stream",
     "text": [
      "The file dsnfnkl doesnt exists\n",
      "The file 'dsnfnkl' is not readable or doesn't exist.\n"
     ]
    }
   ],
   "source": [
    "import os\n",
    "\n",
    "def is_file_readable(filename):\n",
    "    try:\n",
    "        with open(filename,'r') as f:\n",
    "            return True\n",
    "        \n",
    "    except FileNotFoundError:\n",
    "        print(f\"The file {filename} doesnt exists\")\n",
    "\n",
    "    except IOError:\n",
    "        print(f\"The {filename} is not readable\")\n",
    "\n",
    "    except Exception as e:\n",
    "        print (f\"An error occured: {e}\")\n",
    "\n",
    "    return False\n",
    "\n",
    "filename=input(\"Enter the file name\")\n",
    "\n",
    "if is_file_readable(filename):\n",
    "\n",
    "    print(f\"The file '{filename}' is readable.\")\n",
    "else:\n",
    "    print(f\"The file '{filename}' is not readable or doesn't exist.\")\n",
    "\n",
    "\n",
    "\n"
   ]
  },
  {
   "cell_type": "markdown",
   "metadata": {},
   "source": [
    "#### 17.Write a function to check if a file is writable"
   ]
  },
  {
   "cell_type": "code",
   "execution_count": 12,
   "metadata": {},
   "outputs": [
    {
     "name": "stdout",
     "output_type": "stream",
     "text": [
      "The file 'example.txt' is writable.\n"
     ]
    }
   ],
   "source": [
    "import os\n",
    "\n",
    "def is_file_writable(filename):\n",
    "    try:\n",
    "        with open(filename, 'a') as file:\n",
    "            # If we successfully open the file in append mode, it's writable\n",
    "            return True\n",
    "    except FileNotFoundError:\n",
    "        print(f\"The file '{filename}' does not exist.\")\n",
    "    except IOError:\n",
    "        print(f\"The file '{filename}' is not writable.\")\n",
    "    except Exception as e:\n",
    "        print(f\"An error occurred: {e}\")\n",
    "    return False\n",
    "\n",
    "# Example usage\n",
    "filename = 'example.txt'\n",
    "if is_file_writable(filename):\n",
    "    print(f\"The file '{filename}' is writable.\")\n",
    "else:\n",
    "    print(f\"The file '{filename}' is not writable or doesn't exist.\")\n"
   ]
  },
  {
   "cell_type": "markdown",
   "metadata": {},
   "source": [
    "#### 18.Write a function to get the creation date of a file.\n"
   ]
  },
  {
   "cell_type": "code",
   "execution_count": null,
   "metadata": {},
   "outputs": [],
   "source": [
    "import os\n",
    "from datetime import datetime\n",
    "\n",
    "def get_creation_date(filename):\n",
    "    try:\n",
    "        # Get the creation time\n",
    "        creation_time = os.path.getctime(filename)\n",
    "        \n",
    "        # Convert to a human-readable format\n",
    "        creation_date = datetime.fromtimestamp(creation_time)\n",
    "        return creation_date.strftime(\"%Y-%m-%d %H:%M:%S\")\n",
    "    except FileNotFoundError:\n",
    "        print(f\"The file '{filename}' does not exist.\")\n",
    "    except Exception as e:\n",
    "        print(f\"An error occurred: {e}\")\n",
    "        return None\n",
    "\n",
    "# Example usage\n",
    "filename = 'example.txt'\n",
    "creation_date = get_creation_date(filename)\n",
    "if creation_date:\n",
    "    print(f\"The creation date of '{filename}' is: {creation_date}\")\n"
   ]
  },
  {
   "cell_type": "markdown",
   "metadata": {},
   "source": [
    "datetime.fromtimestamp(creation_time)\n",
    "\n",
    "Purpose: This line converts a timestamp (an integer or float representing seconds since the Unix epoch) into a datetime object, which allows you to work with the date and time in a human-readable format.\n",
    "Explanation:\n",
    "\n",
    "\n",
    "datetime module:\n",
    "\n",
    "The datetime module in Python provides classes for manipulating dates and times, including date, time, datetime, and timedelta.\n",
    "Here, we are using the fromtimestamp class method from the datetime class.\n",
    "\n",
    "Unix epoch:\n",
    "\n",
    "The \"epoch\" is a reference point for time used in many computing systems. The Unix epoch starts at 00:00:00 UTC on January 1, 1970.\n",
    "Timestamps are measured in seconds since this epoch. For example, a timestamp of 0 represents the Unix epoch itself, and a timestamp of 1609459200 represents 00:00:00 UTC on January 1, 2021.\n",
    "fromtimestamp method:\n",
    "\n",
    "datetime.fromtimestamp(creation_time) converts the creation_time (the timestamp of when the file was created) to a datetime object.\n",
    "The datetime object includes both date and time components, making it easy to format or manipulate later on.\n",
    "\n",
    "\n",
    "Example:\n",
    "\n",
    "\n",
    "import time\n",
    "from datetime import datetime\n",
    "\n",
    "# Current time as a timestamp\n",
    "current_timestamp = time.time()  # e.g., 1673220421.905939\n",
    "print(\"Timestamp:\", current_timestamp)\n",
    "\n",
    "# Convert the timestamp to a datetime object\n",
    "current_datetime = datetime.fromtimestamp(current_timestamp)\n",
    "print(\"Datetime:\", current_datetime)"
   ]
  },
  {
   "cell_type": "markdown",
   "metadata": {},
   "source": [
    "creation_date.strftime(\"%Y-%m-%d %H:%M:%S\")\n",
    "Purpose: This line formats the datetime object into a string representation, following a specified pattern.\n",
    "Explanation:\n",
    "\n",
    "\n",
    "strftime method:\n",
    "\n",
    "strftime stands for \"string format time.\" It allows you to convert a datetime object into a string with a custom format.\n",
    "Format Specifiers:\n",
    "\n",
    "\"%Y-%m-%d %H:%M:%S\" is the formatting string we pass to strftime. Each part of the format string is a placeholder that corresponds to a specific \n",
    "\n",
    "component of the date and time:\n",
    "\n",
    "%Y: Full year (e.g., 2024)\n",
    "%m: Month as a zero-padded decimal number (e.g., 01 for January)\n",
    "%d: Day of the month as a zero-padded decimal number (e.g., 09)\n",
    "%H: Hour (24-hour clock) as a zero-padded decimal number (e.g., 14 for 2 PM)\n",
    "%M: Minute as a zero-padded decimal number (e.g., 05)\n",
    "%S: Second as a zero-padded decimal number (e.g., 30)\n",
    "Result:\n",
    "\n",
    "This strftime format string will output the date and time in the form YYYY-MM-DD HH:MM:SS, which is often a standard format for timestamps.\n",
    "\n",
    "\n",
    "# Using the datetime object from the previous example\n",
    "formatted_datetime = current_datetime.strftime(\"%Y-%m-%d %H:%M:%S\")\n",
    "print(\"Formatted Datetime:\", formatted_datetime)"
   ]
  },
  {
   "cell_type": "markdown",
   "metadata": {},
   "source": [
    "#### 19.Write a function to move a file to a different directory.\n"
   ]
  },
  {
   "cell_type": "code",
   "execution_count": null,
   "metadata": {},
   "outputs": [],
   "source": [
    "import shutil\n",
    "import os\n",
    "\n",
    "def move_file(source_path, destination_directory):\n",
    "    try:\n",
    "        # Check if the source file exists\n",
    "        if not os.path.isfile(source_path):\n",
    "            print(f\"The file '{source_path}' does not exist.\")\n",
    "            return\n",
    "        \n",
    "        # Check if the destination directory exists\n",
    "        if not os.path.isdir(destination_directory):\n",
    "            print(f\"The directory '{destination_directory}' does not exist.\")\n",
    "            return\n",
    "        \n",
    "        # Move the file to the destination directory\n",
    "        shutil.move(source_path, destination_directory)\n",
    "        print(f\"File '{source_path}' has been moved to '{destination_directory}'.\")\n",
    "\n",
    "    except Exception as e:\n",
    "        print(f\"An error occurred: {e}\")\n",
    "\n",
    "# Example usage\n",
    "source_path = 'example.txt'\n",
    "destination_directory = '/path/to/destination_directory'\n",
    "move_file(source_path, destination_directory)\n"
   ]
  },
  {
   "cell_type": "markdown",
   "metadata": {},
   "source": [
    "#### 20.Write a function to copy a file to a different directory."
   ]
  },
  {
   "cell_type": "code",
   "execution_count": null,
   "metadata": {},
   "outputs": [],
   "source": [
    "import shutil\n",
    "import os\n",
    "\n",
    "def copy_file(source_path, destination_directory):\n",
    "    try:\n",
    "        # Check if the source file exists\n",
    "        if not os.path.isfile(source_path):\n",
    "            print(f\"The file '{source_path}' does not exist.\")\n",
    "            return\n",
    "        \n",
    "        # Check if the destination directory exists\n",
    "        if not os.path.isdir(destination_directory):\n",
    "            print(f\"The directory '{destination_directory}' does not exist.\")\n",
    "            return\n",
    "        \n",
    "        # Construct the destination path (keeping the original filename)\n",
    "        destination_path = os.path.join(destination_directory, os.path.basename(source_path))\n",
    "        \n",
    "        # Copy the file to the destination directory\n",
    "        shutil.copy2(source_path, destination_path)\n",
    "        print(f\"File '{source_path}' has been copied to '{destination_directory}'.\")\n",
    "    \n",
    "    except Exception as e:\n",
    "        print(f\"An error occurred: {e}\")\n",
    "\n",
    "# Example usage\n",
    "copy_file('source.txt', 'destination_folder')\n"
   ]
  },
  {
   "cell_type": "code",
   "execution_count": null,
   "metadata": {},
   "outputs": [],
   "source": []
  },
  {
   "cell_type": "code",
   "execution_count": null,
   "metadata": {},
   "outputs": [],
   "source": []
  }
 ],
 "metadata": {
  "kernelspec": {
   "display_name": "base",
   "language": "python",
   "name": "python3"
  },
  "language_info": {
   "codemirror_mode": {
    "name": "ipython",
    "version": 3
   },
   "file_extension": ".py",
   "mimetype": "text/x-python",
   "name": "python",
   "nbconvert_exporter": "python",
   "pygments_lexer": "ipython3",
   "version": "3.12.4"
  }
 },
 "nbformat": 4,
 "nbformat_minor": 2
}
