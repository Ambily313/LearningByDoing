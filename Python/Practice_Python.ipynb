{
 "cells": [
  {
   "cell_type": "markdown",
   "metadata": {},
   "source": [
    "## Code to take different inputs"
   ]
  },
  {
   "cell_type": "code",
   "execution_count": 4,
   "metadata": {},
   "outputs": [
    {
     "name": "stdout",
     "output_type": "stream",
     "text": [
      "\n",
      "Data and their types:\n",
      "Input 1: asd (Type: str)\n",
      "Input 2: 3 (Type: int)\n",
      "Input 3: [1, 2, 3, 4] (Type: list)\n"
     ]
    }
   ],
   "source": [
    "def accept_and_display_types():\n",
    "    # Ask the user for the number of inputs they want to provide\n",
    "    n = int(input(\"How many inputs do you want to enter? \"))\n",
    "\n",
    "    inputs = []\n",
    "    \n",
    "    for i in range(n):\n",
    "        # Take each input as a string initially\n",
    "        data = input(f\"Enter input {i+1}: \")\n",
    "\n",
    "        # Try to evaluate the input to detect its true type (int, float, list, dict, etc.)\n",
    "        try:\n",
    "            data = eval(data)\n",
    "        except (NameError, SyntaxError):\n",
    "            # If eval fails, treat it as a string\n",
    "            pass\n",
    "\n",
    "        # Append the evaluated or original input to the list\n",
    "        inputs.append(data)\n",
    "\n",
    "    # Display each input with its type\n",
    "    print(\"\\nData and their types:\")\n",
    "    for i, value in enumerate(inputs, 1):\n",
    "        print(f\"Input {i}: {value} (Type: {type(value).__name__})\")\n",
    "\n",
    "# Call the function\n",
    "accept_and_display_types()\n"
   ]
  },
  {
   "cell_type": "markdown",
   "metadata": {},
   "source": [
    "## adding log details"
   ]
  },
  {
   "cell_type": "code",
   "execution_count": 1,
   "metadata": {},
   "outputs": [
    {
     "name": "stdout",
     "output_type": "stream",
     "text": [
      "\n",
      "Data and their types:\n",
      "Input 1: 3 (Type: int)\n"
     ]
    }
   ],
   "source": [
    "import logging\n",
    "\n",
    "# Set up logging configuration\n",
    "logging.basicConfig(\n",
    "    filename='log_details.log', \n",
    "    level=logging.DEBUG,\n",
    "    format='%(asctime)s - %(levelname)s - %(message)s'\n",
    ")\n",
    "\n",
    "def accept_and_display_types():\n",
    "    logging.info(\"Function accept_and_display_types started\")\n",
    "\n",
    "    # Ask the user for the number of inputs they want to provide\n",
    "    try:\n",
    "        n = int(input(\"How many inputs do you want to enter? \"))\n",
    "        logging.info(f\"Number of inputs to be entered: {n}\")\n",
    "    except ValueError as e:\n",
    "        logging.error(\"Invalid input for number of inputs\", exc_info=True)\n",
    "        print(\"Please enter a valid integer for the number of inputs.\")\n",
    "        return\n",
    "\n",
    "    inputs = []\n",
    "    \n",
    "    for i in range(n):\n",
    "        # Take each input as a string initially\n",
    "        data = input(f\"Enter input {i+1}: \")\n",
    "        logging.info(f\"Received input {i+1}: {data}\")\n",
    "\n",
    "        # Try to evaluate the input to detect its true type (int, float, list, dict, etc.)\n",
    "        try:\n",
    "            data = eval(data)\n",
    "            logging.info(f\"Evaluated input {i+1} as {data} (Type: {type(data).__name__})\")\n",
    "        except (NameError, SyntaxError):\n",
    "            # If eval fails, treat it as a string\n",
    "            logging.warning(f\"Input {i+1} could not be evaluated. Treating as string.\")\n",
    "        \n",
    "        # Append the evaluated or original input to the list\n",
    "        inputs.append(data)\n",
    "\n",
    "    # Display each input with its type\n",
    "    logging.info(\"Displaying all inputs with their types\")\n",
    "    print(\"\\nData and their types:\")\n",
    "    for i, value in enumerate(inputs, 1):\n",
    "        print(f\"Input {i}: {value} (Type: {type(value).__name__})\")\n",
    "        logging.debug(f\"Input {i}: {value} (Type: {type(value).__name__})\")\n",
    "\n",
    "    logging.info(\"Function accept_and_display_types completed\")\n",
    "\n",
    "# Call the function\n",
    "accept_and_display_types()\n"
   ]
  },
  {
   "cell_type": "markdown",
   "metadata": {},
   "source": [
    "### enumerate(inputs, 1) \n",
    "\n",
    "is a Python construct that allows you to loop over an iterable (like a list) and get both the index and the value of each element in that iterable. The 1 in enumerate(inputs, 1) specifies the starting index, meaning the counting will start from 1 instead of the default 0.\n",
    "\n",
    "\n",
    "inputs = [\"apple\", \"banana\", \"cherry\"]\n",
    "\n",
    "for index, value in enumerate(inputs, 1):\n",
    "    print(f\"{index}: {value}\")\n",
    "\n",
    "\n",
    "\n",
    "1: apple\n",
    "\n",
    "2: banana\n",
    "\n",
    "3: cherry\n"
   ]
  },
  {
   "cell_type": "markdown",
   "metadata": {},
   "source": [
    "In Python, type(value).__name__ is used to retrieve the name of the type of a given object in string format. Here’s a breakdown of how it works:\n",
    "\n",
    "### type(value):\n",
    " \n",
    " This part returns the type object of the variable value. For example, if value = 42, type(value) would be <class 'int'>, meaning value is of type int.\n",
    "\n",
    "### type(value).__name__: \n",
    "\n",
    "This accesses the __name__ attribute of the type object, which is a string representing the name of the type. For the example above, type(value).__name__ would give \"int\".\n",
    "\n",
    "Example\n",
    "\n",
    "value = 3.14\n",
    "\n",
    "print(type(value))          # Output: <class 'float'>\n",
    "\n",
    "print(type(value).__name__)  # Output: float"
   ]
  },
  {
   "cell_type": "markdown",
   "metadata": {},
   "source": [
    "The eval() function in Python takes a string expression and evaluates it as a Python expression, returning the result. It can be useful in specific cases but should be used with caution due to potential security risks if evaluating untrusted input, as it can execute arbitrary code.\n",
    "\n",
    "Syntax\n",
    "\n",
    "eval(expression, globals=None, locals=None)\n",
    "expression: A string containing a Python expression (e.g., \"2 + 3\", \"len([1, 2, 3])\", or \"3 * 4 + 5\").\n",
    "globals and locals: Optional dictionaries to specify the global and local variable scope."
   ]
  },
  {
   "cell_type": "markdown",
   "metadata": {},
   "source": [
    "## Tuple Questions\n"
   ]
  },
  {
   "cell_type": "markdown",
   "metadata": {},
   "source": [
    "#### Write a function to find the maximum and minimum elements in a tuple."
   ]
  },
  {
   "cell_type": "code",
   "execution_count": null,
   "metadata": {},
   "outputs": [],
   "source": [
    "t=tuple(map(int,(input(\"enter the values \").split())))\n",
    "print(t)\n",
    "\n",
    "def max_min_in_tuple(t):\n",
    "    max=t[0]\n",
    "    min=t[0]\n",
    "\n",
    "    for i in t:\n",
    "        if i>max:\n",
    "            max=i\n",
    "        if i< min:\n",
    "            min=i\n",
    "\n",
    "    return max, min\n",
    "\n",
    "max,min=max_min_in_tuple(t)\n",
    "\n",
    "print(f\"Max value in {t} is {max} \")\n",
    "print(f\"Min value in {t} is {min} \")"
   ]
  },
  {
   "cell_type": "markdown",
   "metadata": {},
   "source": [
    "\n",
    "#### Write a function to convert a tuple to a string."
   ]
  },
  {
   "cell_type": "code",
   "execution_count": null,
   "metadata": {},
   "outputs": [],
   "source": [
    "t=tuple(map(str,input(\"Enter the values: \").split()))\n",
    "\n",
    "def tuple_string_conversion(t):\n",
    "    strg=''\n",
    "\n",
    "    for i in t:\n",
    "        strg+=i\n",
    "\n",
    "    return strg\n",
    "\n",
    "\n",
    "strg=tuple_string_conversion (t)\n",
    "\n",
    "print(f\" the string version of entered tuple{t} is {strg}\")"
   ]
  },
  {
   "cell_type": "markdown",
   "metadata": {},
   "source": [
    "#### Write a function that accepts a tuple of integers and returns a new tuple with only the even numbers."
   ]
  },
  {
   "cell_type": "code",
   "execution_count": 41,
   "metadata": {},
   "outputs": [
    {
     "name": "stdout",
     "output_type": "stream",
     "text": [
      " even tuple created from () is ()\n"
     ]
    }
   ],
   "source": [
    "def get_integer_tuple():\n",
    "\n",
    "    try:\n",
    "    \n",
    "     t= tuple(map(int,input(\"Enter the tuple values :\").split()))\n",
    "     return t\n",
    "    \n",
    "    except ValueError:\n",
    "       print(\"Please enter integer values only\")\n",
    "       return get_integer_tuple()\n",
    "    \n",
    "t=get_integer_tuple()\n",
    "\n",
    "\n",
    "def even_tuple(t):\n",
    "    et=tuple()\n",
    "    for i in t:\n",
    "        if i%2==0:\n",
    "            et+=(i,)\n",
    "    return et\n",
    "\n",
    "et=even_tuple(t)\n",
    " \n",
    "print(f\" even tuple created from {t} is {et}\")"
   ]
  },
  {
   "cell_type": "markdown",
   "metadata": {},
   "source": [
    "#### Write a function to reverse a tuple."
   ]
  },
  {
   "cell_type": "code",
   "execution_count": null,
   "metadata": {},
   "outputs": [],
   "source": [
    "\n",
    "t=tuple(map(str,input(\"Enter the values:  \").split(',')))\n",
    "rt=t[::-1]\n",
    "print(f\"reversed tuple of {t} is {rt}\")\n"
   ]
  },
  {
   "cell_type": "code",
   "execution_count": null,
   "metadata": {},
   "outputs": [],
   "source": [
    "t=tuple(map(str,input(\"Enter the values:  \").split(',')))\n",
    "def rev_tuple(t):\n",
    "    rt=()\n",
    "    for i in range(len(t)-1,-1,-1):\n",
    "                   rt+=(t[i],)\n",
    "    return rt\n",
    "\n",
    "rt=rev_tuple(t)\n",
    "print(\"Reversed tuple: \",rt)"
   ]
  },
  {
   "cell_type": "markdown",
   "metadata": {},
   "source": [
    "#### Write a function to concatenate two tuples."
   ]
  },
  {
   "cell_type": "code",
   "execution_count": 1,
   "metadata": {},
   "outputs": [
    {
     "name": "stdout",
     "output_type": "stream",
     "text": [
      "concatenated tuple: ('2', 'f', 'g', '4', 'fdg', 'dfsjn', 'dksfk', 'dsk')\n"
     ]
    }
   ],
   "source": [
    "t1=tuple(map(str,input(\"Enter the values\").split()))\n",
    "t2=tuple(map(str,input(\"Enter the values\").split()))\n",
    "\n",
    "def tuple_concatenation(t1,t2):\n",
    "    concat_tuple=t1+t2\n",
    "    return concat_tuple\n",
    "\n",
    "concat_tuple=tuple_concatenation(t1,t2)\n",
    "\n",
    "print(f\"concatenated tuple:\",concat_tuple)"
   ]
  },
  {
   "cell_type": "markdown",
   "metadata": {},
   "source": [
    "#### Write a function to slice a tuple and return a portion of it."
   ]
  },
  {
   "cell_type": "code",
   "execution_count": 10,
   "metadata": {},
   "outputs": [
    {
     "name": "stdout",
     "output_type": "stream",
     "text": [
      "sliced tuple of ('a', 's', 'd', 'f', 'c', 'e', 'f', 'h') from -1 to -3 is  ()\n"
     ]
    }
   ],
   "source": [
    "# Not checking for negative indexes\n",
    "\n",
    "t=tuple(map(str,input(\"Enter the values : \").split()))\n",
    "from_to=input(\"Enter the values for slicing from and to\").split()\n",
    "fromindex=int(from_to[0])\n",
    "toindex=int(from_to[1])\n",
    "def tuple_slicing(fromindex,toindex):\n",
    "    sliced_tuple=t[fromindex:toindex]\n",
    "    return sliced_tuple\n",
    "\n",
    "sliced_tuple=tuple_slicing(fromindex,toindex)\n",
    "\n",
    "print(f\"sliced tuple of {t} from {fromindex} to {toindex} is \",sliced_tuple)"
   ]
  },
  {
   "cell_type": "code",
   "execution_count": 16,
   "metadata": {},
   "outputs": [
    {
     "name": "stdout",
     "output_type": "stream",
     "text": [
      "sliced tuple of ('1', '2', '33', '4', '5') from -1 to -2 is  ('5',)\n"
     ]
    }
   ],
   "source": [
    "# includes negative indexing too\n",
    "\n",
    "t=tuple(map(str,input(\"Enter the values : \").split()))\n",
    "from_to=input(\"Enter the values for slicing from and to\").split()\n",
    "fromindex=int(from_to[0])\n",
    "toindex=int(from_to[1])\n",
    "\n",
    "def tuple_slicing(fromindex,toindex):\n",
    "    if fromindex > toindex:\n",
    "        return t[fromindex:toindex:-1]\n",
    "    else:\n",
    "        return t[fromindex:toindex]\n",
    "    \n",
    "\n",
    "sliced_tuple=tuple_slicing(fromindex,toindex)\n",
    "\n",
    "print(f\"sliced tuple of {t} from {fromindex} to {toindex} is \",sliced_tuple)\n",
    "\n"
   ]
  },
  {
   "cell_type": "markdown",
   "metadata": {},
   "source": [
    "#### Write a function to find the index of an element in a tuple."
   ]
  },
  {
   "cell_type": "code",
   "execution_count": 6,
   "metadata": {},
   "outputs": [
    {
     "name": "stdout",
     "output_type": "stream",
     "text": [
      "3 is in the 3th index location\n"
     ]
    }
   ],
   "source": [
    "t= tuple(map(str,input(\"Enter the elements: \").split()))\n",
    "e=input(\"Element to be searched: \")\n",
    "\n",
    "def tuple_index(t,e):\n",
    "\n",
    "      for i in range(0,len(t)):\n",
    "            if t[i]==e:\n",
    "                  return i\n",
    "            \n",
    "      else:\n",
    "         return -1\n",
    "\n",
    "ind=tuple_index(t,e)\n",
    "\n",
    "if ind==-1:\n",
    "      print(f\"{e} is not in the tuple\")\n",
    "else:\n",
    "      print(f\"{e} is in the {ind}th index location\")"
   ]
  },
  {
   "cell_type": "markdown",
   "metadata": {},
   "source": [
    "#### Write a function to count the occurrences of a specific element in a tuple."
   ]
  },
  {
   "cell_type": "code",
   "execution_count": 14,
   "metadata": {},
   "outputs": [
    {
     "name": "stdout",
     "output_type": "stream",
     "text": [
      "element 2 not in the tuple\n"
     ]
    }
   ],
   "source": [
    "t=tuple(map(str,input(\"enter the values:\").split()))\n",
    "\n",
    "e=input(\"Enter the element\")\n",
    "\n",
    "def tuple_element_count(t,e):\n",
    "    count=0\n",
    "    for i in range(0,len(t)):\n",
    "        if t[i]==e:\n",
    "            count+=1\n",
    "    return count\n",
    "            \n",
    "   \n",
    "count=tuple_element_count(t,e)\n",
    "\n",
    "if count==0:\n",
    "    print(f\"element {e} not in the tuple\")\n",
    "else:\n",
    "    print(f\"element {e} found {count} times in the tuple\")\n"
   ]
  },
  {
   "cell_type": "markdown",
   "metadata": {},
   "source": [
    "#### Write a function to count the occurrences of a each element in a tuple."
   ]
  },
  {
   "cell_type": "code",
   "execution_count": 23,
   "metadata": {},
   "outputs": [
    {
     "name": "stdout",
     "output_type": "stream",
     "text": [
      "Its an empty tuple\n"
     ]
    }
   ],
   "source": [
    "t=tuple(map(str,input(\"enter the values: \").split()))\n",
    "\n",
    "def tuple_element_count(t):\n",
    "\n",
    "    element_count={}\n",
    "    for element in t:\n",
    "        if element in element_count:\n",
    "            element_count[element]+=1\n",
    "        else:\n",
    "             element_count[element]=1\n",
    "\n",
    "    return element_count\n",
    "\n",
    "count=tuple_element_count(t)\n",
    "\n",
    "if count:\n",
    "    print(\"Occurance of each element in the tuple \")\n",
    "    for element,occurance in count.items() :\n",
    "        print(f\"{element}: {occurance}\")\n",
    "\n",
    "else:\n",
    "    print(\"Its an empty tuple\")\n",
    "\n",
    "    \n"
   ]
  },
  {
   "cell_type": "markdown",
   "metadata": {},
   "source": [
    "#### Write a function to remove all occurrences of a specified element from a tuple."
   ]
  },
  {
   "cell_type": "code",
   "execution_count": 26,
   "metadata": {},
   "outputs": [
    {
     "name": "stdout",
     "output_type": "stream",
     "text": [
      "tuple ('a', 's', 'd', 'f', '1', '1', '1') after the removal of elemnt 1 is ('a', 's', 'd', 'f')\n"
     ]
    }
   ],
   "source": [
    "t= tuple(map(str,input(\"Enter the elements: \").split()))\n",
    "e=input(\"Enter the elemnt to be removed\")\n",
    "\n",
    "def tuple_elmnt_remove(t,e):\n",
    "    return tuple(i for i in t if i !=e) \n",
    "\n",
    "t1=tuple_elmnt_remove(t,e)\n",
    "\n",
    "print(f\"tuple {t } after the removal of elemnt {e} is {t1}\")"
   ]
  },
  {
   "cell_type": "markdown",
   "metadata": {},
   "source": [
    "#### Write a function to unpack the elements of a tuple into separate variables."
   ]
  },
  {
   "cell_type": "code",
   "execution_count": 29,
   "metadata": {},
   "outputs": [
    {
     "name": "stdout",
     "output_type": "stream",
     "text": [
      "a100=a\n",
      "a101=s\n",
      "a102=d\n",
      "a103=r\n",
      "a104=2\n",
      "a105=3\n"
     ]
    }
   ],
   "source": [
    "t=tuple(map(str,input(\"Enter the values: \").split()))\n",
    "\n",
    "def tuple_unpacking(t):\n",
    "    return t\n",
    "\n",
    "\n",
    "t1=tuple_unpacking(t)\n",
    "\n",
    "for index,element in enumerate(t1,start=100):\n",
    "    print(f\"a{index}={element}\")\n",
    "\n",
    "\n",
    " \n",
    " "
   ]
  },
  {
   "cell_type": "code",
   "execution_count": null,
   "metadata": {},
   "outputs": [],
   "source": []
  },
  {
   "cell_type": "markdown",
   "metadata": {},
   "source": [
    "# List Questions"
   ]
  },
  {
   "attachments": {
    "image.png": {
     "image/png": "[encoded data removed]"
    }
   },
   "cell_type": "markdown",
   "metadata": {},
   "source": [
    "![image.png](attachment:image.png)"
   ]
  },
  {
   "cell_type": "markdown",
   "metadata": {},
   "source": [
    "#### Write a function to reverse a list."
   ]
  },
  {
   "cell_type": "code",
   "execution_count": 11,
   "metadata": {},
   "outputs": [
    {
     "name": "stdout",
     "output_type": "stream",
     "text": [
      "Reversed list of ['a', 's', 'd', '5', '4', '3', 'h', 'd']: ['d', 'h', '3', '4', '5', 'd', 's', 'a']\n"
     ]
    }
   ],
   "source": [
    "\n",
    "\n",
    "l=input(\"Enter the elements: \").split()\n",
    "\n",
    "def list_reverse1(l):\n",
    "    new=[]\n",
    "    for i in range(len(l)-1,-1,-1):\n",
    "        new.append(l[i])\n",
    "    return new\n",
    "\n",
    "print(f\"Reversed list of {l}: {list_reverse1(l)}\")"
   ]
  },
  {
   "cell_type": "code",
   "execution_count": 13,
   "metadata": {},
   "outputs": [
    {
     "name": "stdout",
     "output_type": "stream",
     "text": [
      "Reversed list of ['a', 's', 'd', '5v']: ['5v', 'd', 's', 'a']\n"
     ]
    }
   ],
   "source": [
    "l=input(\"Enter the elements: \").split()\n",
    "\n",
    "def list_reverse2(l):\n",
    "    l=l[::-1]\n",
    "    return l\n",
    "\n",
    "print(f\"Reversed list of {l}: {list_reverse1(l)}\")"
   ]
  },
  {
   "cell_type": "markdown",
   "metadata": {},
   "source": [
    "#### Write a function to remove all occurrences of a specific element from a list.\n"
   ]
  },
  {
   "cell_type": "code",
   "execution_count": 14,
   "metadata": {},
   "outputs": [
    {
     "name": "stdout",
     "output_type": "stream",
     "text": [
      "new list: ['a', 's', 'f', 'g']\n"
     ]
    }
   ],
   "source": [
    "l=input(\"Enter the elements\").split()\n",
    "e=input(\"Enter the element to be removed: \")\n",
    "\n",
    "def list_remove_element(l,e):\n",
    "    return [element for element in l if element!=e]\n",
    "\n",
    "print(f\"new list: {list_remove_element(l,e)}\")"
   ]
  },
  {
   "cell_type": "markdown",
   "metadata": {},
   "source": [
    "#### Write a function to find the index of an element in a list."
   ]
  },
  {
   "cell_type": "code",
   "execution_count": 20,
   "metadata": {},
   "outputs": [
    {
     "name": "stdout",
     "output_type": "stream",
     "text": [
      "element6 is at the 4 th index\n"
     ]
    }
   ],
   "source": [
    "l=input(\"Enter the elemnts: \").split()\n",
    "e=input(\"Enter the element to find the index: \")\n",
    "\n",
    "def list_index(l,e):\n",
    "    for i in range(0,len(l)):\n",
    "        if l[i]==e:\n",
    "\n",
    "         return i\n",
    "\n",
    "    else:\n",
    "       \n",
    "         return -1\n",
    "\n",
    "index=list_index(l,e)\n",
    "if index==-1:\n",
    "\n",
    "     print(f\"Element {e} not in the list\")\n",
    "\n",
    "else:\n",
    "    print(f\"element{e} is at the {index} th index\")\n",
    "\n"
   ]
  },
  {
   "cell_type": "markdown",
   "metadata": {},
   "source": [
    "#### Write a function to remove duplicates from a list."
   ]
  },
  {
   "cell_type": "code",
   "execution_count": 22,
   "metadata": {},
   "outputs": [
    {
     "name": "stdout",
     "output_type": "stream",
     "text": [
      "list_without_duplicates of ['a', 's', 'd', 'f', 's']: ['f', 's', 'd', 'a']\n"
     ]
    }
   ],
   "source": [
    "l=input(\"Enter the values: \").split()\n",
    "\n",
    "def list_remove_duplicate1(l):\n",
    "    return list(set(l))\n",
    "\n",
    "print(f\"list_without_duplicates of {l}: {list_remove_duplicate1(l)}\")"
   ]
  },
  {
   "cell_type": "code",
   "execution_count": 23,
   "metadata": {},
   "outputs": [
    {
     "name": "stdout",
     "output_type": "stream",
     "text": [
      "Unique element of ['a', 's', 'd', 'f', 'h', 's', 'a', 's', 'd'] is ['a', 's', 'd', 'f', 'h']\n"
     ]
    }
   ],
   "source": [
    "l=input(\"Enter the elemnts: \").split()\n",
    "\n",
    "def list_remove_duplicate_loop(l):\n",
    "    unique=[]\n",
    "    for i in l:\n",
    "        if i not in unique:\n",
    "            unique.append(i)\n",
    "\n",
    "    return unique\n",
    "\n",
    "print(f\"Unique element of {l} is {list_remove_duplicate_loop(l)}\")"
   ]
  },
  {
   "cell_type": "markdown",
   "metadata": {},
   "source": [
    "#### Write a function to sort a list without using built-in functions.\n"
   ]
  },
  {
   "cell_type": "code",
   "execution_count": null,
   "metadata": {},
   "outputs": [],
   "source": [
    "\n",
    "   "
   ]
  },
  {
   "cell_type": "markdown",
   "metadata": {},
   "source": [
    "#### Write a function to find the largest and smallest elements in a list."
   ]
  },
  {
   "cell_type": "code",
   "execution_count": 41,
   "metadata": {},
   "outputs": [
    {
     "name": "stdout",
     "output_type": "stream",
     "text": [
      "Smallest:4\n",
      "largest:33333\n"
     ]
    }
   ],
   "source": [
    "l=input(\"Enter the elements:\").split()\n",
    "\n",
    "def largest_smallest(l):\n",
    "\n",
    "    l=list(map(int,l))\n",
    "    small=large=l[0]\n",
    "    \n",
    "    for i in l:\n",
    "        if i>large:\n",
    "            large=i\n",
    "\n",
    "        if i< small:\n",
    "            small=i\n",
    "    return large,small\n",
    "\n",
    "\n",
    "largest,smallest=largest_smallest(l)\n",
    "largest=largest\n",
    "\n",
    "smallest=smallest\n",
    "\n",
    "print(f\"Smallest:{smallest}\\nlargest:{largest}\",sep='\\n')\n",
    "        \n",
    "\n"
   ]
  },
  {
   "cell_type": "markdown",
   "metadata": {},
   "source": [
    "#### Write a function to flatten a nested list (e.g., [[1, 2], [3, 4]] to [1, 2, 3, 4]).\n"
   ]
  },
  {
   "cell_type": "code",
   "execution_count": 13,
   "metadata": {},
   "outputs": [
    {
     "name": "stdout",
     "output_type": "stream",
     "text": [
      "Flattened list: [1, 2, 3, 4, 5, 6, 7, 8, 's', 7, 9]\n"
     ]
    },
    {
     "data": {
      "text/plain": [
       "2"
      ]
     },
     "execution_count": 13,
     "metadata": {},
     "output_type": "execute_result"
    }
   ],
   "source": [
    "def flatten_list(nested_list):\n",
    "    flat_list = []\n",
    "    for element in nested_list:\n",
    "        if isinstance(element, (list,tuple)):  # Check if the element is a list\n",
    "            flat_list.extend(flatten_list(element))  # Recursively flatten if it's a list\n",
    "        else:\n",
    "            flat_list.append(element)  # Add non-list elements directly\n",
    "    return flat_list\n",
    "\n",
    "# Example usage\n",
    "nested_list = [1, [2, [3, 4], 5], [6, 7], 8,('s',7,9)]\n",
    "print(\"Flattened list:\", flatten_list(nested_list))\n",
    "n=flatten_list(nested_list)\n",
    "n.count(7)\n"
   ]
  },
  {
   "cell_type": "markdown",
   "metadata": {},
   "source": [
    "#### Write a function to check if a list is a palindrome."
   ]
  },
  {
   "cell_type": "code",
   "execution_count": 10,
   "metadata": {},
   "outputs": [
    {
     "name": "stdout",
     "output_type": "stream",
     "text": [
      "['a', 'm', 'm', 'a']\n",
      "['a', 'm', 'm', 'a']\n",
      "True\n"
     ]
    }
   ],
   "source": [
    "l=input(\"Enter the elemnts \").split()\n",
    "print(l)\n",
    "\n",
    "l1=l[::-1]\n",
    "print(l1)\n",
    "\n",
    "if l1==l:\n",
    "    print(True)"
   ]
  },
  {
   "cell_type": "code",
   "execution_count": 57,
   "metadata": {},
   "outputs": [
    {
     "name": "stdout",
     "output_type": "stream",
     "text": [
      "['a', 'ama']\n",
      "The list is not palindrome\n"
     ]
    }
   ],
   "source": [
    "l=input(\"Enter the elemnts \").split()\n",
    "print(l)\n",
    "\n",
    "def list_pali_checking(l):\n",
    "    nl=[]\n",
    "    for i in range(len(l)-1,-1,-1):\n",
    "        nl.append(l[i])\n",
    "\n",
    "\n",
    "    if l==nl:\n",
    "        return True\n",
    "    \n",
    "    else: \n",
    "        return False\n",
    "    \n",
    "\n",
    "res=list_pali_checking(l)\n",
    "\n",
    "if res:\n",
    "    print(\"The list is palindrome\")\n",
    "else:\n",
    "    print(\"The list is not palindrome\")\n",
    "    \n",
    "    "
   ]
  },
  {
   "cell_type": "markdown",
   "metadata": {},
   "source": [
    "#### Write a function to find the intersection of two lists."
   ]
  },
  {
   "cell_type": "code",
   "execution_count": 59,
   "metadata": {},
   "outputs": [
    {
     "name": "stdout",
     "output_type": "stream",
     "text": [
      "L1 ['2', '3', '4', '5', 'g', 'd']\n",
      "L2 ['s', 'd', 'g', '2', '3', 'g']\n",
      "intersection ['g', '2', '3', 'd']\n"
     ]
    }
   ],
   "source": [
    "l1=input(\"Enter the elemnts \").split()\n",
    "print(\"L1\",l1)\n",
    "l2=input(\"Enter the elemnts \").split()\n",
    "print(\"L2\",l2)\n",
    "def list_intersection(l1,l2):\n",
    "    return list(set(l1).intersection(set(l2)))\n",
    "\n",
    "res=list_intersection(l1,l2)\n",
    "\n",
    "print(\"intersection\",res)"
   ]
  },
  {
   "cell_type": "markdown",
   "metadata": {},
   "source": [
    "#### \n",
    "\n",
    "\n",
    "Write a function to rotate a list by n elements.\n",
    "\n",
    "\n"
   ]
  },
  {
   "cell_type": "code",
   "execution_count": 14,
   "metadata": {},
   "outputs": [
    {
     "name": "stdout",
     "output_type": "stream",
     "text": [
      "list ['a', 'ds', 'f', 'g']\n",
      "Rotated list: ['g', 'a', 'ds', 'f']\n"
     ]
    }
   ],
   "source": [
    "def rotate_list(lst, n):\n",
    "    # Use slicing to rotate\n",
    "    n = n % len(lst)  # To handle cases where n > len(lst)\n",
    "    return lst[n:] + lst[:n]\n",
    "\n",
    "# Example usage:\n",
    "lst = input(\"Enter the list elements: \").split()\n",
    "print(\"list\",lst)\n",
    "n = int(input(\"Enter the number of elements to rotate by: \"))\n",
    "rotated_lst = rotate_list(lst, n)\n",
    "\n",
    "print(\"Rotated list:\", rotated_lst)\n",
    "\n",
    "\n"
   ]
  },
  {
   "cell_type": "markdown",
   "metadata": {},
   "source": [
    "### Use of extend"
   ]
  },
  {
   "cell_type": "code",
   "execution_count": 22,
   "metadata": {},
   "outputs": [
    {
     "name": "stdout",
     "output_type": "stream",
     "text": [
      "L1 ['1', '2', '3']\n",
      "L2 ['4', '5', '6']\n",
      "['1', '2', '3', '4', '5', '6']\n"
     ]
    }
   ],
   "source": [
    "l1=input(\"Enter the elemnts \").split()\n",
    "print(\"L1\",l1)\n",
    "l2=input(\"Enter the elemnts \").split()\n",
    "print(\"L2\",l2)\n",
    "\n",
    "l1.extend(l2)\n",
    "print(l1)"
   ]
  },
  {
   "cell_type": "markdown",
   "metadata": {},
   "source": [
    "# Set Questions"
   ]
  },
  {
   "cell_type": "markdown",
   "metadata": {},
   "source": [
    "\n",
    "\n",
    "\n",
    "\n",
    "\n"
   ]
  },
  {
   "cell_type": "markdown",
   "metadata": {},
   "source": [
    "#### Write a function to add a list of elements to a set."
   ]
  },
  {
   "cell_type": "code",
   "execution_count": 8,
   "metadata": {},
   "outputs": [
    {
     "name": "stdout",
     "output_type": "stream",
     "text": [
      "Final set is {'d', '3', '2', '1', '4', 's', 'a'}\n"
     ]
    }
   ],
   "source": [
    "l=input(\"Enter the elemnts\").split()\n",
    "s = set(input(\"Enter initial elements for the set : \").split())\n",
    "def  set_add_list(l,s):\n",
    "    for i in l:\n",
    "        s.add(i)\n",
    "    return s\n",
    "print(\"Final set is\",set_add_list(l,s))\n",
    "    "
   ]
  },
  {
   "cell_type": "markdown",
   "metadata": {},
   "source": [
    "#### Write a function to find the union of two sets."
   ]
  },
  {
   "cell_type": "code",
   "execution_count": 12,
   "metadata": {},
   "outputs": [
    {
     "name": "stdout",
     "output_type": "stream",
     "text": [
      "Union: {'v', 'x', 'c', 'a'}\n"
     ]
    }
   ],
   "source": [
    "s1=set(input(\"Enter the values :\").split())\n",
    "s2=set(input(\"Enter the values :\").split())\n",
    "\n",
    "def set_union(s1,s2):\n",
    "    un=s1.union(s2)\n",
    "    return un\n",
    "\n",
    "un=set_union(s1,s2)\n",
    "print(\"Union:\",un)"
   ]
  },
  {
   "cell_type": "markdown",
   "metadata": {},
   "source": [
    "#### Write a function to find the intersection of two sets."
   ]
  },
  {
   "cell_type": "code",
   "execution_count": 15,
   "metadata": {},
   "outputs": [
    {
     "name": "stdout",
     "output_type": "stream",
     "text": [
      "intersection: set()\n"
     ]
    }
   ],
   "source": [
    "s1=set(input(\"Enter the values :\").split())\n",
    "s2=set(input(\"Enter the values :\").split())\n",
    "\n",
    "def set_intersection(s1,s2):\n",
    "    intr=s1.intersection(s2)\n",
    "    return intr\n",
    "\n",
    "intr=set_intersection(s1,s2)\n",
    "print(\"intersection:\",intr)"
   ]
  },
  {
   "cell_type": "markdown",
   "metadata": {},
   "source": [
    "#### Write a function to remove an element from a set."
   ]
  },
  {
   "cell_type": "code",
   "execution_count": 18,
   "metadata": {},
   "outputs": [
    {
     "name": "stdout",
     "output_type": "stream",
     "text": [
      "Set after removal of 3 is {'d', '2', 'f', 's', 'a'}\n"
     ]
    }
   ],
   "source": [
    "s1=set(input(\"Enter the values :\").split())\n",
    "e=input(\"Enter the  element to be removed :\")\n",
    "\n",
    "def set_elemnt_remove(s1,e):\n",
    "    s1.remove(e)\n",
    "    return s1\n",
    "\n",
    "print(f\"Set after removal of {e} is\",set_elemnt_remove(s1,e))"
   ]
  },
  {
   "cell_type": "markdown",
   "metadata": {},
   "source": [
    "#### Write a function to clear all elements from a set.\n"
   ]
  },
  {
   "cell_type": "code",
   "execution_count": 22,
   "metadata": {},
   "outputs": [
    {
     "name": "stdout",
     "output_type": "stream",
     "text": [
      "Final result is set()\n"
     ]
    }
   ],
   "source": [
    "s1=set(input(\"Enter the values\").split())\n",
    "\n",
    "def set_clear(s1):\n",
    "    s1.clear()\n",
    "    return s1\n",
    "\n",
    "\n",
    "print(\"Final result is\",set_clear(s1))\n",
    "    "
   ]
  },
  {
   "cell_type": "markdown",
   "metadata": {},
   "source": [
    "#### Write a function to check if two sets have any elements in common."
   ]
  },
  {
   "cell_type": "code",
   "execution_count": 25,
   "metadata": {},
   "outputs": [
    {
     "name": "stdout",
     "output_type": "stream",
     "text": [
      "Commeon elemnts are: {'g', 'f'}\n"
     ]
    }
   ],
   "source": [
    "s1=set(input(\"Enter the values\").split())\n",
    "s2=set(input(\"Enter the values\").split())\n",
    "\n",
    "def set_common_element(s1,s2):\n",
    "    common_element=set()\n",
    "    for i in s2:\n",
    "        if i in s1:\n",
    "\n",
    "             common_element.add(i)\n",
    "    return common_element\n",
    "\n",
    "print(\"Commeon elemnts are:\",set_common_element(s1,s2))\n"
   ]
  },
  {
   "cell_type": "markdown",
   "metadata": {},
   "source": [
    "Just checking if any common elements:"
   ]
  },
  {
   "cell_type": "code",
   "execution_count": 26,
   "metadata": {},
   "outputs": [
    {
     "name": "stdout",
     "output_type": "stream",
     "text": [
      "The sets have no common elements.\n"
     ]
    }
   ],
   "source": [
    "s1 = set(input(\"Enter the values for the first set: \").split())\n",
    "s2 = set(input(\"Enter the values for the second set: \").split())\n",
    "\n",
    "def sets_have_common_elements(s1, s2):\n",
    "    # Check if there's any intersection between the sets\n",
    "    return not s1.isdisjoint(s2)\n",
    "\n",
    "# Output result\n",
    "if sets_have_common_elements(s1, s2):\n",
    "    print(\"The sets have common elements.\")\n",
    "else:\n",
    "    print(\"The sets have no common elements.\")\n"
   ]
  },
  {
   "cell_type": "markdown",
   "metadata": {},
   "source": [
    "#### Write a function to find the difference between two sets."
   ]
  },
  {
   "cell_type": "code",
   "execution_count": 27,
   "metadata": {},
   "outputs": [
    {
     "name": "stdout",
     "output_type": "stream",
     "text": [
      "set difference between {'s', 'a', 'f', 'd'} and {'3', '2', '4', 's', 'a'} is {'f', 'd'}\n"
     ]
    }
   ],
   "source": [
    "s1 = set(input(\"Enter the values for the first set: \").split())\n",
    "s2 = set(input(\"Enter the values for the second set: \").split())\n",
    "\n",
    "def set_difference(s1,s2):\n",
    "    diff=set()\n",
    "    for i in s1:\n",
    "        if i not in s2:\n",
    "            diff.add(i)\n",
    "\n",
    "    return diff\n",
    "print(f\"set difference between {s1} and {s2} is {set_difference(s1,s2)}\")"
   ]
  },
  {
   "cell_type": "markdown",
   "metadata": {},
   "source": [
    "ANOTHER METHOD"
   ]
  },
  {
   "cell_type": "code",
   "execution_count": 29,
   "metadata": {},
   "outputs": [
    {
     "name": "stdout",
     "output_type": "stream",
     "text": [
      "Set difference between {'s', 'a', 'f', 'd'} and {'s', '1', 'a', 'd'} is {'f'}\n"
     ]
    }
   ],
   "source": [
    "s1 = set(input(\"Enter the values for the first set: \").split())\n",
    "s2 = set(input(\"Enter the values for the second set: \").split())\n",
    "\n",
    "def set_difference(s1, s2):\n",
    "    return s1.difference(s2)\n",
    "\n",
    "print(f\"Set difference between {s1} and {s2} is {set_difference(s1, s2)}\")\n"
   ]
  },
  {
   "cell_type": "markdown",
   "metadata": {},
   "source": [
    "#### Write a function to convert a list with duplicate values into a set of unique elements.\n"
   ]
  },
  {
   "cell_type": "code",
   "execution_count": 8,
   "metadata": {},
   "outputs": [
    {
     "name": "stdout",
     "output_type": "stream",
     "text": [
      "set of unique elements is: {'s', '1', '2', 'd', 'a'}\n"
     ]
    }
   ],
   "source": [
    "def unique_elements(a):\n",
    "    s=set(a)\n",
    "    return s\n",
    "\n",
    "\n",
    "a=input(\"Enter the values: \").split()\n",
    "\n",
    "res=unique_elements(a)\n",
    "print(f\"set of unique elements is: {res}\")\n",
    "\n"
   ]
  },
  {
   "cell_type": "markdown",
   "metadata": {},
   "source": [
    "#### Write a function to find the symmetric difference between two sets."
   ]
  },
  {
   "cell_type": "code",
   "execution_count": 10,
   "metadata": {},
   "outputs": [
    {
     "name": "stdout",
     "output_type": "stream",
     "text": [
      "Print symmetic set siff of {'a', 's', 'f', 'd'} and{'f', '3', '2', 'd', '1'} is \n",
      "\n",
      "{'3', 's', '1', '2', 'a'}\n"
     ]
    }
   ],
   "source": [
    "def set_symmetric_diff(s1,s2):\n",
    "    sym_set=set()\n",
    "    for i in s1:\n",
    "        if i not in s2:\n",
    "            sym_set.add(i)\n",
    "    for i in s2:\n",
    "        if i not in s1:\n",
    "            sym_set.add(i)\n",
    "\n",
    "\n",
    "    return sym_set\n",
    "\n",
    "\n",
    "s1=set(input(\"enter values of s1:\").split())\n",
    "s2=set(input(\"enter values of s2:\").split())\n",
    "\n",
    "symset=set_symmetric_diff(s1,s2)\n",
    "print(f\"Print symmetic set siff of {s1} and{s2} is \\n\",symset,sep='\\n')"
   ]
  },
  {
   "cell_type": "markdown",
   "metadata": {},
   "source": [
    "Using built in functions"
   ]
  },
  {
   "cell_type": "code",
   "execution_count": 11,
   "metadata": {},
   "outputs": [
    {
     "name": "stdout",
     "output_type": "stream",
     "text": [
      "Symmetric difference of {'a', 's', 'd'} and {'1', '3', '2'} is:\n",
      "{'a', '3', 's', '2', 'd', '1'}\n"
     ]
    }
   ],
   "source": [
    "def set_symmetric_diff(s1, s2):\n",
    "    return s1.symmetric_difference(s2)\n",
    "\n",
    "# Input sets from user\n",
    "s1 = set(input(\"Enter values of s1: \").split())\n",
    "s2 = set(input(\"Enter values of s2: \").split())\n",
    "\n",
    "# Calculate symmetric difference\n",
    "symset = set_symmetric_diff(s1, s2)\n",
    "print(f\"Symmetric difference of {s1} and {s2} is:\\n{symset}\")\n"
   ]
  },
  {
   "cell_type": "markdown",
   "metadata": {},
   "source": [
    "#### Write a function to check if one set is a subset of another.\n"
   ]
  },
  {
   "cell_type": "code",
   "execution_count": 15,
   "metadata": {},
   "outputs": [
    {
     "name": "stdout",
     "output_type": "stream",
     "text": [
      "{'a', 'f', 'd'} is a subset of {'j', 'h', 'f', 's', 'g', 'd', 'a'}.\n"
     ]
    }
   ],
   "source": [
    "def is_subset(set_a, set_b):\n",
    "    return set_b.issubset(set_a)\n",
    "\n",
    "# Input sets from user\n",
    "set_a = set(input(\"Enter values for set A: \").split())\n",
    "set_b = set(input(\"Enter values for set B: \").split())\n",
    "\n",
    "# Check if set_a is a subset of set_b\n",
    "if is_subset(set_a, set_b):\n",
    "    print(f\"{set_b} is a subset of {set_a}.\")\n",
    "else:\n",
    "    print(f\"{set_b} is not a subset of {set_a}.\")\n"
   ]
  },
  {
   "cell_type": "code",
   "execution_count": null,
   "metadata": {},
   "outputs": [],
   "source": []
  },
  {
   "cell_type": "code",
   "execution_count": null,
   "metadata": {},
   "outputs": [],
   "source": []
  },
  {
   "cell_type": "markdown",
   "metadata": {},
   "source": [
    "# Dictionary Questions"
   ]
  },
  {
   "cell_type": "markdown",
   "metadata": {},
   "source": [
    "\n",
    "Write a function to update the value of an existing key in a dictionary.\n",
    "Write a function to merge two dictionaries.\n",
    "Write a function to delete a key-value pair from a dictionary.\n",
    "Write a function to find the maximum value in a dictionary.\n",
    "Write a function to invert a dictionary (swap keys and values).\n",
    "Write a function to check if a specific key exists in a dictionary.\n",
    "Write a function to count the occurrences of each character in a string using a dictionary.\n",
    "Write a function to create a dictionary from two lists (one for keys, one for values).\n",
    "Write a function to find all keys in a dictionary that have a specific value."
   ]
  },
  {
   "cell_type": "markdown",
   "metadata": {},
   "source": [
    "#### Write a function to add a new key-value pair to a dictionary."
   ]
  },
  {
   "cell_type": "code",
   "execution_count": 11,
   "metadata": {},
   "outputs": [
    {
     "name": "stdout",
     "output_type": "stream",
     "text": [
      "Added: 1 -> [\"'a'\", \"'d'\", \"'f'\"] (Key type: int, Value type: list)\n",
      "Added: 8 -> (\"'s'\", \"'cdsssdf'\") (Key type: int, Value type: tuple)\n",
      "Final dictionary: {1: [\"'a'\", \"'d'\", \"'f'\"], 8: (\"'s'\", \"'cdsssdf'\")}\n"
     ]
    }
   ],
   "source": [
    "def parse_input(value):\n",
    "    # Attempt to convert to integer\n",
    "    try:\n",
    "        return int(value)\n",
    "    except ValueError:\n",
    "        pass\n",
    "\n",
    "    # Attempt to convert to float\n",
    "    try:\n",
    "        return float(value)\n",
    "    except ValueError:\n",
    "        pass\n",
    "\n",
    "    # Attempt to convert to tuple\n",
    "    if value.startswith('(') and value.endswith(')'):\n",
    "        try:\n",
    "            return tuple(map(str.strip, value[1:-1].split(',')))\n",
    "        except Exception:\n",
    "            pass\n",
    "\n",
    "    # Attempt to convert to frozenset\n",
    "    if value.startswith('frozenset(') and value.endswith(')'):\n",
    "        inner = value[len('frozenset('):-1].strip()\n",
    "        try:\n",
    "            return frozenset(map(str.strip, inner.split(',')))\n",
    "        except Exception:\n",
    "            pass\n",
    "\n",
    "    # Attempt to convert to list\n",
    "    if value.startswith('[') and value.endswith(']'):\n",
    "        try:\n",
    "            # Remove brackets and split by comma\n",
    "            return [parse_input(item.strip()) for item in value[1:-1].split(',')]\n",
    "        except Exception:\n",
    "            pass\n",
    "\n",
    "    # Return original value as string if all conversions fail\n",
    "    return value\n",
    "\n",
    "def add_key_value_pair():\n",
    "    dictionary = {}\n",
    "\n",
    "    while True:\n",
    "        # Accepting key\n",
    "        key_input = input(\"Enter the key (string, integer, float, tuple, or frozenset): \")\n",
    "        key = parse_input(key_input)\n",
    "        \n",
    "        # Validate key type\n",
    "        if not isinstance(key, (str, int, float, tuple, frozenset)):\n",
    "            print(\"Invalid input. Ensure the key is of a valid type (string, integer, float, tuple, or frozenset).\")\n",
    "            continue\n",
    "        \n",
    "        # Accepting value\n",
    "        value_input = input(\"Enter the value (any type, e.g., [1, 2, 3]): \")\n",
    "        value = parse_input(value_input)\n",
    "\n",
    "        # Adding to the dictionary with original data types preserved\n",
    "        dictionary[key] = value\n",
    "        print(f\"Added: {key} -> {value} (Key type: {type(key).__name__}, Value type: {type(value).__name__})\")\n",
    "\n",
    "        # Check if the user wants to continue\n",
    "        another = input(\"Do you want to add another key-value pair? (yes/no): \")\n",
    "        if another.lower() != 'yes':\n",
    "            break\n",
    "\n",
    "    print(\"Final dictionary:\", dictionary)\n",
    "\n",
    "# Example of using the function\n",
    "add_key_value_pair()\n"
   ]
  },
  {
   "cell_type": "code",
   "execution_count": 12,
   "metadata": {},
   "outputs": [
    {
     "data": {
      "text/plain": [
       "'dsksndks skdsk ds'"
      ]
     },
     "execution_count": 12,
     "metadata": {},
     "output_type": "execute_result"
    }
   ],
   "source": [
    "str=input()\n",
    "str.strip()"
   ]
  },
  {
   "cell_type": "code",
   "execution_count": null,
   "metadata": {},
   "outputs": [],
   "source": []
  },
  {
   "cell_type": "code",
   "execution_count": null,
   "metadata": {},
   "outputs": [],
   "source": []
  },
  {
   "cell_type": "code",
   "execution_count": null,
   "metadata": {},
   "outputs": [],
   "source": []
  },
  {
   "cell_type": "markdown",
   "metadata": {},
   "source": []
  }
 ],
 "metadata": {
  "kernelspec": {
   "display_name": "base",
   "language": "python",
   "name": "python3"
  },
  "language_info": {
   "codemirror_mode": {
    "name": "ipython",
    "version": 3
   },
   "file_extension": ".py",
   "mimetype": "text/x-python",
   "name": "python",
   "nbconvert_exporter": "python",
   "pygments_lexer": "ipython3",
   "version": "3.12.4"
  }
 },
 "nbformat": 4,
 "nbformat_minor": 2
}
