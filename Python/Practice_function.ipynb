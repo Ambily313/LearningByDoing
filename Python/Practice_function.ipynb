{
 "cells": [
  {
   "cell_type": "markdown",
   "metadata": {},
   "source": [
    " # Python Basics"
   ]
  },
  {
   "cell_type": "markdown",
   "metadata": {},
   "source": [
    "\n",
    "\n",
    "Write a function that returns the nth Fibonacci number.\n",
    "\n",
    "\n",
    "\n",
    "Write a function to find the greatest common divisor (GCD) of two numbers.\n",
    "\n"
   ]
  },
  {
   "cell_type": "markdown",
   "metadata": {},
   "source": [
    "### Write a function to check if a number is prime."
   ]
  },
  {
   "cell_type": "code",
   "execution_count": 15,
   "metadata": {},
   "outputs": [],
   "source": [
    "def prime_number(n):\n",
    "    if n>1:\n",
    "        \n",
    "    \n",
    "         for i in range (2,(n//2)+1):\n",
    "             if n%i==0:\n",
    "                 print(f\"{n} is not a prime number\")\n",
    "                 break\n",
    "             \n",
    "\n",
    "         else:\n",
    "                print(f\"{n} is a Prime number\")\n",
    "             \n",
    "    else:       \n",
    "       print(f\"{n} is not a prime number\")\n",
    "        \n",
    "\n"
   ]
  },
  {
   "cell_type": "code",
   "execution_count": 17,
   "metadata": {},
   "outputs": [
    {
     "name": "stdout",
     "output_type": "stream",
     "text": [
      "29 is a Prime number\n"
     ]
    }
   ],
   "source": [
    "prime_number(29)"
   ]
  },
  {
   "cell_type": "code",
   "execution_count": 19,
   "metadata": {},
   "outputs": [
    {
     "name": "stdout",
     "output_type": "stream",
     "text": [
      "21 is not a prime number\n"
     ]
    }
   ],
   "source": [
    "prime_number(21)"
   ]
  },
  {
   "cell_type": "markdown",
   "metadata": {},
   "source": [
    "You can write an else for a for loop in Python. The else clause in a for loop is executed only if the loop completes without encountering a break statement"
   ]
  },
  {
   "cell_type": "markdown",
   "metadata": {},
   "source": [
    "### Write a function to find the factorial of a number."
   ]
  },
  {
   "cell_type": "code",
   "execution_count": 2,
   "metadata": {},
   "outputs": [
    {
     "name": "stdout",
     "output_type": "stream",
     "text": [
      "Factorial of 3 is 6\n"
     ]
    }
   ],
   "source": [
    "def factorial(n):\n",
    "    fact=1\n",
    "    for i in range(1,n+1):\n",
    "        \n",
    "        fact*=i\n",
    "    return fact\n",
    "\n",
    "n=3\n",
    "print(f\"Factorial of {n} is {factorial(n)}\")\n"
   ]
  },
  {
   "cell_type": "code",
   "execution_count": 4,
   "metadata": {},
   "outputs": [
    {
     "data": {
      "text/plain": [
       "40320"
      ]
     },
     "execution_count": 4,
     "metadata": {},
     "output_type": "execute_result"
    }
   ],
   "source": [
    "factorial(8)"
   ]
  },
  {
   "cell_type": "markdown",
   "metadata": {},
   "source": [
    "### Write a function to reverse a string."
   ]
  },
  {
   "cell_type": "code",
   "execution_count": 9,
   "metadata": {},
   "outputs": [
    {
     "data": {
      "text/plain": [
       "'ihsiR'"
      ]
     },
     "execution_count": 9,
     "metadata": {},
     "output_type": "execute_result"
    }
   ],
   "source": [
    "def reverse():\n",
    "    stng_to_be_reversed=input(\"Enter the string: \")\n",
    "    reverse_string=stng_to_be_reversed[::-1]\n",
    "    return reverse_string\n",
    "\n",
    "\n",
    "reverse()\n"
   ]
  },
  {
   "cell_type": "markdown",
   "metadata": {},
   "source": [
    "### Write a function to find the largest number in a list."
   ]
  },
  {
   "cell_type": "code",
   "execution_count": 30,
   "metadata": {},
   "outputs": [],
   "source": [
    "l= input(\"Enter the list members: \").split()\n",
    "\n",
    "l=list(map(int,l))\n",
    "\n",
    "def max_list(l):\n",
    "\n",
    "    max=l[0]\n",
    "    \n",
    "    for i in l:\n",
    "             \n",
    "        if i>max:\n",
    "\n",
    "            max=i\n",
    "\n",
    "    return max\n"
   ]
  },
  {
   "cell_type": "code",
   "execution_count": 31,
   "metadata": {},
   "outputs": [
    {
     "name": "stdout",
     "output_type": "stream",
     "text": [
      "The largest value is 55\n"
     ]
    }
   ],
   "source": [
    "print(f\"The largest value is {max_list(l)}\")"
   ]
  },
  {
   "cell_type": "markdown",
   "metadata": {},
   "source": [
    "### Write a function that returns a list of even numbers from 1 to n."
   ]
  },
  {
   "cell_type": "code",
   "execution_count": 37,
   "metadata": {},
   "outputs": [
    {
     "name": "stdout",
     "output_type": "stream",
     "text": [
      "enter the number: \n",
      "list of even numbers from 1 to 45 is [2, 4, 6, 8, 10, 12, 14, 16, 18, 20, 22, 24, 26, 28, 30, 32, 34, 36, 38, 40, 42, 44]\n"
     ]
    }
   ],
   "source": [
    "l=int(input(print(\"enter the number: \")))\n",
    "\n",
    "def even():\n",
    "   l_ev= [ i for i in range(1,l+1)  if i%2==0]\n",
    "\n",
    "   return l_ev\n",
    "\n",
    "l_ev=even()\n",
    "\n",
    "print(f\"list of even numbers from 1 to {l} is {l_ev}\")\n"
   ]
  },
  {
   "cell_type": "markdown",
   "metadata": {},
   "source": [
    "### Write a function that returns a list of odd numbers from 1 to n."
   ]
  },
  {
   "cell_type": "markdown",
   "metadata": {},
   "source": [
    "l=int(input(print(\"Enter the number :\")))\n",
    "\n",
    "def odd():\n",
    "    l_odd=[i for i in range(1,l+1) if i%2!=0]\n",
    "\n",
    "    return l_odd\n",
    "\n",
    "l_odd=odd()\n",
    "\n",
    "print(f\"Odd numbers from 1 to {l} is {l_odd}\")"
   ]
  },
  {
   "cell_type": "markdown",
   "metadata": {},
   "source": [
    "### Write a function to calculate the sum of all elements in a list."
   ]
  },
  {
   "cell_type": "code",
   "execution_count": 45,
   "metadata": {},
   "outputs": [
    {
     "name": "stdout",
     "output_type": "stream",
     "text": [
      "Sum of elements in [2, 4, 5, 6, 7, 3] is 27\n"
     ]
    }
   ],
   "source": [
    "l=input(\"Enter the list:\"  ).split()\n",
    "\n",
    "l=list(map(int,l))\n",
    "\n",
    "def Sum_list():\n",
    "    s=0\n",
    "    for i in l:\n",
    "        s+=i\n",
    "\n",
    "    return s\n",
    "\n",
    "s=Sum_list()\n",
    "\n",
    "print(f\"Sum of elements in {l} is {s}\")\n"
   ]
  },
  {
   "cell_type": "markdown",
   "metadata": {},
   "source": [
    "### Write a function to check if a string is a palindrome."
   ]
  },
  {
   "cell_type": "code",
   "execution_count": 52,
   "metadata": {},
   "outputs": [],
   "source": [
    "def palindrome():\n",
    "      inpt=input(\"Enter the string. \").lower()\n",
    "\n",
    "      rev_inpt=inpt[::-1]\n",
    "\n",
    "      if inpt==rev_inpt:\n",
    "            print (\"Palindrome\")\n",
    "\n",
    "      else:\n",
    "            print (\"Not Palindrome\")\n",
    "            \n",
    "\n"
   ]
  },
  {
   "cell_type": "code",
   "execution_count": 53,
   "metadata": {},
   "outputs": [
    {
     "name": "stdout",
     "output_type": "stream",
     "text": [
      "Not Palindrome\n"
     ]
    }
   ],
   "source": [
    "palindrome()"
   ]
  },
  {
   "cell_type": "code",
   "execution_count": null,
   "metadata": {},
   "outputs": [],
   "source": []
  },
  {
   "cell_type": "code",
   "execution_count": null,
   "metadata": {},
   "outputs": [],
   "source": []
  },
  {
   "cell_type": "markdown",
   "metadata": {},
   "source": [
    "## List and Tuple Manipulation"
   ]
  },
  {
   "cell_type": "markdown",
   "metadata": {},
   "source": [
    "\n",
    "\n",
    "\n",
    "\n",
    "Write a function to merge two sorted lists into one sorted list.\n",
    "\n",
    "Write a function that returns the intersection of two lists.\n",
    "\n",
    "Write a function that returns the union of two lists.\n",
    "\n",
    "Write a function to find the difference between two lists.\n",
    "\n",
    "Write a function to rotate a list by k elements.\n",
    "\n",
    "Write a function to count the occurrences of each element in a list.\n",
    "\n",
    "Write a function to find the most frequent element in a list.\n",
    "\n"
   ]
  },
  {
   "cell_type": "markdown",
   "metadata": {},
   "source": [
    "### Write a function to remove duplicates from a list."
   ]
  },
  {
   "cell_type": "code",
   "execution_count": 56,
   "metadata": {},
   "outputs": [
    {
     "name": "stdout",
     "output_type": "stream",
     "text": [
      "the list without duplicates is ['q', 'w', 'e', 'r', '1', '2', '3', '4']\n"
     ]
    }
   ],
   "source": [
    "l=input(\"Enter the elements: \").split()\n",
    "\n",
    "\n",
    "def duplicate_removal(l):\n",
    "    e_l=[]\n",
    "    \n",
    "    for i in l:\n",
    "        if i not in e_l:\n",
    "            e_l.append(i)\n",
    "\n",
    "\n",
    "    return e_l\n",
    "\n",
    "fresh_list=duplicate_removal(l)\n",
    "\n",
    "print(f\"the list without duplicates is {fresh_list}\")\n",
    "\n",
    "            \n",
    "        \n"
   ]
  },
  {
   "cell_type": "markdown",
   "metadata": {},
   "source": [
    "### Write a function that accepts a list of numbers and returns a new list with the square of each number."
   ]
  },
  {
   "cell_type": "code",
   "execution_count": 61,
   "metadata": {},
   "outputs": [
    {
     "name": "stdout",
     "output_type": "stream",
     "text": [
      "the squares of [3, 4, 5] is [9, 16, 25]\n"
     ]
    }
   ],
   "source": [
    "ln=input(\"Enter the list \").split()\n",
    "ln=list(map(int,ln))\n",
    "def square_calculation(ln):\n",
    "  sq= [i**2 for i in ln ]\n",
    "  return sq\n",
    "\n",
    "print(f\"the squares of {ln} is {square_calculation(ln)}\")\n"
   ]
  },
  {
   "cell_type": "markdown",
   "metadata": {},
   "source": [
    "\n",
    "### Write a function to reverse a tuple."
   ]
  },
  {
   "cell_type": "code",
   "execution_count": 64,
   "metadata": {},
   "outputs": [
    {
     "name": "stdout",
     "output_type": "stream",
     "text": [
      "the reversed tuple is ('34444', 'b', 'n', 'b', 'gh', '3', '2')\n"
     ]
    }
   ],
   "source": [
    "# Get input and split it into a list\n",
    "tple=input(\"Enter the tuple: \").split()\n",
    "\n",
    "# Convert the list to a tuple\n",
    "tple = tuple(tple)\n",
    "\n",
    "def reverse_tuple(tple):\n",
    "\n",
    "    rev_tuple=tple[::-1]\n",
    "\n",
    "\n",
    "    return rev_tuple\n",
    "\n",
    "print(f\"the reversed tuple is {reverse_tuple(tple)}\")\n",
    "    "
   ]
  },
  {
   "cell_type": "markdown",
   "metadata": {},
   "source": [
    "### Write a function to find the most frequent element in a list."
   ]
  },
  {
   "cell_type": "code",
   "execution_count": null,
   "metadata": {},
   "outputs": [],
   "source": []
  }
 ],
 "metadata": {
  "kernelspec": {
   "display_name": "base",
   "language": "python",
   "name": "python3"
  },
  "language_info": {
   "codemirror_mode": {
    "name": "ipython",
    "version": 3
   },
   "file_extension": ".py",
   "mimetype": "text/x-python",
   "name": "python",
   "nbconvert_exporter": "python",
   "pygments_lexer": "ipython3",
   "version": "3.12.4"
  }
 },
 "nbformat": 4,
 "nbformat_minor": 2
}
